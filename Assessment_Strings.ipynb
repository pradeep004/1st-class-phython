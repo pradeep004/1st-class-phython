{
  "nbformat": 4,
  "nbformat_minor": 0,
  "metadata": {
    "colab": {
      "name": "Assessment_Strings.ipynb",
      "provenance": [],
      "authorship_tag": "ABX9TyMGEFE3YLif8qGD3cfRh+y6",
      "include_colab_link": true
    },
    "kernelspec": {
      "name": "python3",
      "display_name": "Python 3"
    }
  },
  "cells": [
    {
      "cell_type": "markdown",
      "metadata": {
        "id": "view-in-github",
        "colab_type": "text"
      },
      "source": [
        "<a href=\"https://colab.research.google.com/github/pradeep004/Udemy-Python-Programming/blob/main/Assessment_Strings.ipynb\" target=\"_parent\"><img src=\"https://colab.research.google.com/assets/colab-badge.svg\" alt=\"Open In Colab\"/></a>"
      ]
    },
    {
      "cell_type": "markdown",
      "metadata": {
        "id": "rIxdbc_lbMSM"
      },
      "source": [
        "####Strings Examples"
      ]
    },
    {
      "cell_type": "code",
      "metadata": {
        "colab": {
          "base_uri": "https://localhost:8080/"
        },
        "id": "KlhmYnjEDpgH",
        "outputId": "f2de10c4-c744-4045-d937-6a983ef153e0"
      },
      "source": [
        "user = input('Enter the string:')\r\n",
        "print('the length of user  is: {}'.format(len(user)))\r\n"
      ],
      "execution_count": null,
      "outputs": [
        {
          "output_type": "stream",
          "text": [
            "Enter the string:pradeep\n",
            "the length of user  is: 7\n"
          ],
          "name": "stdout"
        }
      ]
    },
    {
      "cell_type": "code",
      "metadata": {
        "colab": {
          "base_uri": "https://localhost:8080/"
        },
        "id": "pWJGomsGENB7",
        "outputId": "fa819436-2a25-4340-8cef-88c93c81a063"
      },
      "source": [
        "user = input('enter the string:')\r\n",
        "for value in user:\r\n",
        "  print(value)"
      ],
      "execution_count": null,
      "outputs": [
        {
          "output_type": "stream",
          "text": [
            "enter the stringpradep\n",
            "p\n",
            "r\n",
            "a\n",
            "d\n",
            "e\n",
            "p\n"
          ],
          "name": "stdout"
        }
      ]
    },
    {
      "cell_type": "code",
      "metadata": {
        "id": "xNyvpQv1FP7k"
      },
      "source": [
        "user = input()\r\n",
        "for chare in user:\r\n",
        "  if chare == 'a' or chare == 'e' or chare == 'i' or chare == 'u' or chare == 'o':\r\n",
        "    print(chare) "
      ],
      "execution_count": null,
      "outputs": []
    },
    {
      "cell_type": "code",
      "metadata": {
        "colab": {
          "base_uri": "https://localhost:8080/"
        },
        "id": "BAooWOi2HyeQ",
        "outputId": "ae7fa843-e51e-405d-e5cb-62fd110a0fa7"
      },
      "source": [
        "user = input()\r\n",
        "count = 0\r\n",
        "count1 = 0\r\n",
        "for chare in user:\r\n",
        "  if chare == 'a' or chare == 'e' or chare == 'i' or chare == 'o' or chare == 'u':\r\n",
        "    count += 1\r\n",
        "    continue\r\n",
        "  count1 += 1\r\n",
        "print(\"consonants are:\",count1)\r\n",
        "print(\"Vowel are: \",count)"
      ],
      "execution_count": null,
      "outputs": [
        {
          "output_type": "stream",
          "text": [
            "alpaabets\n",
            "consonants are: 5\n",
            "Vowel are:  4\n"
          ],
          "name": "stdout"
        }
      ]
    },
    {
      "cell_type": "code",
      "metadata": {
        "id": "vZVz3UG3Ugde"
      },
      "source": [
        ""
      ],
      "execution_count": null,
      "outputs": []
    },
    {
      "cell_type": "code",
      "metadata": {
        "colab": {
          "base_uri": "https://localhost:8080/"
        },
        "id": "bFILqRmqJ_l3",
        "outputId": "fcd93f1e-076c-4aa4-a4e9-4dd92753c44e"
      },
      "source": [
        "user = input()\r\n",
        "my_list = []\r\n",
        "my_list = user.split(' ')\r\n",
        "print(my_list)"
      ],
      "execution_count": null,
      "outputs": [
        {
          "output_type": "stream",
          "text": [
            "praeep ahfweie\n",
            "['praeep', 'ahfweie']\n"
          ],
          "name": "stdout"
        }
      ]
    },
    {
      "cell_type": "markdown",
      "metadata": {
        "id": "J8U-ybw6bS-D"
      },
      "source": [
        ""
      ]
    },
    {
      "cell_type": "code",
      "metadata": {
        "id": "6ftzGOJVSeCT",
        "colab": {
          "base_uri": "https://localhost:8080/"
        },
        "outputId": "e945e8c6-97bd-4e07-de46-4e6da367fb46"
      },
      "source": [
        "#To print the  last N characters of the String\r\n",
        "\r\n",
        "user_string = input()\r\n",
        "user_int = int(input())\r\n",
        "\r\n",
        "print(user_string)\r\n",
        "\r\n",
        "while user_int > 0:\r\n",
        "  print(user_string[-user_int],end ='')\r\n",
        "  user_int = user_int - 1\r\n",
        "\r\n"
      ],
      "execution_count": null,
      "outputs": [
        {
          "output_type": "stream",
          "text": [
            "pradeep\n",
            "2\n",
            "pradeep\n",
            "ep"
          ],
          "name": "stdout"
        }
      ]
    },
    {
      "cell_type": "code",
      "metadata": {
        "colab": {
          "base_uri": "https://localhost:8080/"
        },
        "id": "qqWvaKHHcSCp",
        "outputId": "10ab3ec2-c3e4-4223-8867-01466de03a9d"
      },
      "source": [
        "#Another Method\r\n",
        "my_str = input()\r\n",
        "N = int(input())\r\n",
        "\r\n",
        "print(my_str)\r\n",
        "\r\n",
        "new_str = my_str[-N:]\r\n",
        "print(new_str)"
      ],
      "execution_count": null,
      "outputs": [
        {
          "output_type": "stream",
          "text": [
            "Ahish\n",
            "2\n",
            "Ahish\n",
            "sh\n"
          ],
          "name": "stdout"
        }
      ]
    },
    {
      "cell_type": "code",
      "metadata": {
        "colab": {
          "base_uri": "https://localhost:8080/"
        },
        "id": "0uGH5Yegh9gk",
        "outputId": "77ae49ec-6d00-4358-97cc-e1f353105c3b"
      },
      "source": [
        "#Finding the substring in the lists\r\n",
        "my_list1 = ['pradeep','ashis','john','are']\r\n",
        "my_list2 = ['pra','re','his']\r\n",
        "\r\n",
        "print(my_list1)\r\n",
        "print(my_list2)\r\n",
        "\r\n",
        "#any() return the string after the match in any string \r\n",
        "\r\n",
        "res = [element2 for element2 in my_list2 if any(element2 in element1 for element1 in my_list1)]\r\n",
        "print(res)"
      ],
      "execution_count": null,
      "outputs": [
        {
          "output_type": "stream",
          "text": [
            "['pradeep', 'ashis', 'john', 'are']\n",
            "['pra', 're', 'his']\n",
            "['pra', 're', 'his']\n"
          ],
          "name": "stdout"
        }
      ]
    },
    {
      "cell_type": "code",
      "metadata": {
        "id": "-5IeU9KhUqUX"
      },
      "source": [
        "#Another method of finding the substring\r\n",
        "\r\n",
        "l1 = ['ashish', 'patil','masters','mastered']\r\n",
        "l2 =  ['shi','ste','xxx','til','mast']\r\n",
        "output_list = set()\r\n",
        "for ele in l1 :\r\n",
        "  for l2_ele in l2:\r\n",
        "    if l2_ele in ele:\r\n",
        "      output_list.add(l2_ele)"
      ],
      "execution_count": null,
      "outputs": []
    },
    {
      "cell_type": "code",
      "metadata": {
        "colab": {
          "base_uri": "https://localhost:8080/"
        },
        "id": "cT6HHfggkwFs",
        "outputId": "a88ea3af-99df-4ba6-ebc8-b243d6b8ab0e"
      },
      "source": [
        "my_l = input()\r\n",
        "outpo = []\r\n",
        "\r\n",
        "for value in my_l:\r\n",
        "  value = my_l.split()\r\n",
        "outpo.append(value)\r\n",
        "\r\n",
        "print(outpo)"
      ],
      "execution_count": null,
      "outputs": [
        {
          "output_type": "stream",
          "text": [
            "raepe efwfiew dfnewi\n",
            "[['raepe', 'efwfiew', 'dfnewi']]\n"
          ],
          "name": "stdout"
        }
      ]
    },
    {
      "cell_type": "code",
      "metadata": {
        "id": "qmsWc3zwk-6C",
        "colab": {
          "base_uri": "https://localhost:8080/"
        },
        "outputId": "b2dd587b-811b-49c7-992b-987b13d45548"
      },
      "source": [
        "#Program for even and odd numbers\r\n",
        "user_number = int(input())\r\n",
        "def even_odd():\r\n",
        "  if user_number % 2 == 0:\r\n",
        "    print(\"the user number is even {}\".format(user_number))\r\n",
        "  else :\r\n",
        "    print(\"the number is odd {}\".format(user_number))\r\n",
        "\r\n",
        "even_odd()\r\n"
      ],
      "execution_count": null,
      "outputs": [
        {
          "output_type": "stream",
          "text": [
            "21\n",
            "the number is odd 21\n"
          ],
          "name": "stdout"
        }
      ]
    },
    {
      "cell_type": "code",
      "metadata": {
        "colab": {
          "base_uri": "https://localhost:8080/"
        },
        "id": "sRhMem73S86H",
        "outputId": "b0729316-3e6b-4a81-cde8-2b149d4ce554"
      },
      "source": [
        "#Printing the n numbers\r\n",
        "out_list = []\r\n",
        "for values in range(1,100):\r\n",
        "  if values % 2 == 0:\r\n",
        "    out_list.append(values)\r\n",
        "print(out_list)"
      ],
      "execution_count": null,
      "outputs": [
        {
          "output_type": "stream",
          "text": [
            "[2, 4, 6, 8, 10, 12, 14, 16, 18, 20, 22, 24, 26, 28, 30, 32, 34, 36, 38, 40, 42, 44, 46, 48, 50, 52, 54, 56, 58, 60, 62, 64, 66, 68, 70, 72, 74, 76, 78, 80, 82, 84, 86, 88, 90, 92, 94, 96, 98]\n"
          ],
          "name": "stdout"
        }
      ]
    },
    {
      "cell_type": "code",
      "metadata": {
        "colab": {
          "base_uri": "https://localhost:8080/"
        },
        "id": "Mb15JGD1TvCV",
        "outputId": "7405d050-c405-42a7-bf19-bf408ce0004f"
      },
      "source": [
        "#Palendrome\r\n",
        "my_str = '244'\r\n",
        "out_str = my_str[::-1]\r\n",
        "print(out_str)\r\n",
        "if my_str == out_str:\r\n",
        "  print(\"number is palendrome\")\r\n",
        "else:\r\n",
        "  print(\"number is not palendrome\")"
      ],
      "execution_count": null,
      "outputs": [
        {
          "output_type": "stream",
          "text": [
            "442\n",
            "number is not palendrome\n"
          ],
          "name": "stdout"
        }
      ]
    },
    {
      "cell_type": "code",
      "metadata": {
        "colab": {
          "base_uri": "https://localhost:8080/"
        },
        "id": "yYzvoDMwXCKT",
        "outputId": "5f4e67f1-4711-4083-daaa-925f3f62c82e"
      },
      "source": [
        "#To find the prime number\r\n",
        "number = int(input())\r\n",
        "is_prime = True\r\n",
        "for values in range(2,number):\r\n",
        "  if number % values == 0:\r\n",
        "    is_prime = False\r\n",
        "if is_prime:\r\n",
        "  print(\"number is Pime\")\r\n",
        "else:\r\n",
        "  print(\"number is not prime\")"
      ],
      "execution_count": null,
      "outputs": [
        {
          "output_type": "stream",
          "text": [
            "12\n",
            "number is not prime False\n"
          ],
          "name": "stdout"
        }
      ]
    },
    {
      "cell_type": "code",
      "metadata": {
        "colab": {
          "base_uri": "https://localhost:8080/"
        },
        "id": "XHYlhgvXO9_m",
        "outputId": "7f9beb5f-c103-45fc-9f36-f3a69511af03"
      },
      "source": [
        "#Prime number\r\n",
        "number = int(input())\r\n",
        "\r\n",
        "for values in range(2,number):\r\n",
        "  if number % values == 0:\r\n",
        "    print(\"{} is not prime\".format(number))\r\n",
        "    break\r\n",
        "  else:\r\n",
        "    print(\"{} is prime number\".format(number))"
      ],
      "execution_count": null,
      "outputs": [
        {
          "output_type": "stream",
          "text": [
            "15\n",
            "15 is prime number\n",
            "15 is not prime\n"
          ],
          "name": "stdout"
        }
      ]
    },
    {
      "cell_type": "code",
      "metadata": {
        "colab": {
          "base_uri": "https://localhost:8080/"
        },
        "id": "EogmMFBdO_cS",
        "outputId": "00ebd349-d1aa-465a-8c62-cf396aed0a66"
      },
      "source": [
        "#factorial of the given number\r\n",
        "n = int(input())\r\n",
        "factorial = 1\r\n",
        "for values in range(1,n+1):\r\n",
        "  print(values,end =' ')\r\n",
        "  factorial = factorial * values\r\n",
        "\r\n",
        "print(\"\\nthe factorial of {} is {}\".format(n,factorial)) "
      ],
      "execution_count": null,
      "outputs": [
        {
          "output_type": "stream",
          "text": [
            "4\n",
            "1 2 3 4 \n",
            "the factorial of 4 is 24\n"
          ],
          "name": "stdout"
        }
      ]
    },
    {
      "cell_type": "code",
      "metadata": {
        "colab": {
          "base_uri": "https://localhost:8080/"
        },
        "id": "cmntLPG2YeIg",
        "outputId": "f5a81f06-b3c0-4e09-b20e-146c751775bb"
      },
      "source": [
        "#Finding the maximum value in three numbers\r\n",
        "var_one = int(input())\r\n",
        "var_two = int(input())\r\n",
        "var_three = int(input())\r\n",
        "\r\n",
        "if var_one > var_two:\r\n",
        "  max_var = var_one\r\n",
        "else:\r\n",
        "  max_var = var_two\r\n",
        "\r\n",
        "if max_var < var_three:\r\n",
        "  max_var = var_three\r\n",
        "print(max_var)"
      ],
      "execution_count": null,
      "outputs": [
        {
          "output_type": "stream",
          "text": [
            "3\n",
            "2\n",
            "4\n",
            "4\n"
          ],
          "name": "stdout"
        }
      ]
    },
    {
      "cell_type": "code",
      "metadata": {
        "id": "HYexBcukjw6_",
        "colab": {
          "base_uri": "https://localhost:8080/"
        },
        "outputId": "ffe7aeb8-af15-494a-bac7-e6cc9f042357"
      },
      "source": [
        "a ='perap'\r\n",
        "b = a[::-1]\r\n",
        "print(b)"
      ],
      "execution_count": null,
      "outputs": [
        {
          "output_type": "stream",
          "text": [
            "prp\n"
          ],
          "name": "stdout"
        }
      ]
    },
    {
      "cell_type": "code",
      "metadata": {
        "colab": {
          "base_uri": "https://localhost:8080/"
        },
        "id": "TzrGCKsCknLT",
        "outputId": "7f23df18-0468-4a49-a646-fd7eab1517eb"
      },
      "source": [
        "out_list = []\r\n",
        "def division_five():\r\n",
        "  for numbers in range(1,101):\r\n",
        "    if numbers % 5 == 0:\r\n",
        "      continue\r\n",
        "    out_list.append(numbers)\r\n",
        "  print(out_list)\r\n",
        "division_five()"
      ],
      "execution_count": 9,
      "outputs": [
        {
          "output_type": "stream",
          "text": [
            "[1, 2, 3, 4, 6, 7, 8, 9, 11, 12, 13, 14, 16, 17, 18, 19, 21, 22, 23, 24, 26, 27, 28, 29, 31, 32, 33, 34, 36, 37, 38, 39, 41, 42, 43, 44, 46, 47, 48, 49, 51, 52, 53, 54, 56, 57, 58, 59, 61, 62, 63, 64, 66, 67, 68, 69, 71, 72, 73, 74, 76, 77, 78, 79, 81, 82, 83, 84, 86, 87, 88, 89, 91, 92, 93, 94, 96, 97, 98, 99]\n"
          ],
          "name": "stdout"
        }
      ]
    },
    {
      "cell_type": "code",
      "metadata": {
        "colab": {
          "base_uri": "https://localhost:8080/"
        },
        "id": "qb306P9vk0bm",
        "outputId": "4b23863e-9d28-483b-a0f5-8a34917a6f6b"
      },
      "source": [
        "\r\n",
        "N = int(input(\"\"))\r\n",
        "a = 0\r\n",
        "b = 1\r\n",
        "print(a)\r\n",
        "print(b)\r\n",
        "for numbers in range(2,N):\r\n",
        "  temp  = a\r\n",
        "  a = b\r\n",
        "  b = a + temp\r\n",
        "  print(b)\r\n",
        " "
      ],
      "execution_count": 29,
      "outputs": [
        {
          "output_type": "stream",
          "text": [
            "13\n",
            "0\n",
            "1\n",
            "1\n",
            "2\n",
            "3\n",
            "5\n",
            "8\n",
            "13\n",
            "21\n",
            "34\n",
            "55\n",
            "89\n",
            "144\n"
          ],
          "name": "stdout"
        }
      ]
    },
    {
      "cell_type": "code",
      "metadata": {
        "id": "e9duENHHnKoW"
      },
      "source": [
        ""
      ],
      "execution_count": null,
      "outputs": []
    }
  ]
}