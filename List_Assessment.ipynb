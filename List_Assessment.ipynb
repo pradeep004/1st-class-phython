{
  "nbformat": 4,
  "nbformat_minor": 0,
  "metadata": {
    "colab": {
      "name": "List_Assessment.ipynb",
      "provenance": [],
      "collapsed_sections": [],
      "authorship_tag": "ABX9TyM2YY7AkfEnRRpG5eRZZ3d+",
      "include_colab_link": true
    },
    "kernelspec": {
      "display_name": "Python 3",
      "name": "python3"
    }
  },
  "cells": [
    {
      "cell_type": "markdown",
      "metadata": {
        "id": "view-in-github",
        "colab_type": "text"
      },
      "source": [
        "<a href=\"https://colab.research.google.com/github/pradeep004/Udemy-Python-Programming/blob/main/List_Assessment.ipynb\" target=\"_parent\"><img src=\"https://colab.research.google.com/assets/colab-badge.svg\" alt=\"Open In Colab\"/></a>"
      ]
    },
    {
      "cell_type": "markdown",
      "metadata": {
        "id": "PwMZAb8krsMd"
      },
      "source": [
        "#Quetion No1"
      ]
    },
    {
      "cell_type": "code",
      "metadata": {
        "colab": {
          "base_uri": "https://localhost:8080/"
        },
        "id": "Aigvsue2rrxb",
        "outputId": "2216fe85-ff02-4a8c-ed4c-665031984ce3"
      },
      "source": [
        "listOne=[3,6,9,12,15,18,21]\r\n",
        "listTwo=[4,8,12,16,20,24,28]\r\n",
        "slice1=listOne[1::2]\r\n",
        "slice2=listTwo[::2]\r\n",
        "\r\n",
        "print(\"Elements at odd-index positions from listOne are :\",slice1)\r\n",
        "print(\"Elements at odd-index positions from listTwo are :\",slice2)\r\n",
        "for elements in slice2:\r\n",
        "  slice1.append(elements)\r\n",
        "print(\"Final Third List :\",slice1)\r\n"
      ],
      "execution_count": null,
      "outputs": [
        {
          "output_type": "stream",
          "text": [
            "Elements at odd-index positions from listOne are : [6, 12, 18]\n",
            "Elements at odd-index positions from listTwo are : [4, 12, 20, 28]\n",
            "Final Third List : [6, 12, 18, 4, 12, 20, 28]\n"
          ],
          "name": "stdout"
        }
      ]
    },
    {
      "cell_type": "markdown",
      "metadata": {
        "id": "FSbRUOjxocnQ"
      },
      "source": [
        "#Question no2"
      ]
    },
    {
      "cell_type": "code",
      "metadata": {
        "colab": {
          "base_uri": "https://localhost:8080/"
        },
        "id": "6U6dvIV9oc4a",
        "outputId": "df4994a5-fb5f-4de8-cad8-45e0205831f1"
      },
      "source": [
        "def remove_replace():\r\n",
        "    list = [1, 25, 524, 5664, 5, 5, 56, 6]\r\n",
        "    add4ele = list.pop(4)\r\n",
        "    print(list)\r\n",
        "\r\n",
        "remove_replace()"
      ],
      "execution_count": null,
      "outputs": [
        {
          "output_type": "stream",
          "text": [
            "[1, 25, 524, 5664, 5, 56, 6]\n"
          ],
          "name": "stdout"
        }
      ]
    },
    {
      "cell_type": "markdown",
      "metadata": {
        "id": "dPDDKoMrjv41"
      },
      "source": [
        "#Question No 3\r\n"
      ]
    },
    {
      "cell_type": "code",
      "metadata": {
        "colab": {
          "base_uri": "https://localhost:8080/"
        },
        "id": "kwK7MXt6jk8Q",
        "outputId": "e2e93fee-9111-43b4-d692-d7486d96855e"
      },
      "source": [
        "#List Slicing and Reversing the List\r\n",
        "samplelist=[11,42,8,23,14,12,78,45,89]\r\n",
        "\r\n",
        "#Slicing the list by index\r\n",
        "slicelist1=samplelist[0:3]\r\n",
        "slicelist2=samplelist[3:6]\r\n",
        "slicelist3=samplelist[6:]\r\n",
        "\r\n",
        "print(\"Original list:\",samplelist)\r\n",
        "print(\"Sliced List 1:\",slicelist1)\r\n",
        "a=slicelist1[::-1]\r\n",
        "print(\"After revering the sliced list 1:\",a)\r\n",
        "print(\"Sliced List 2:\",slicelist2)\r\n",
        "b=slicelist2[::-1]\r\n",
        "print(\"After revering the sliced list 2:\",b)\r\n",
        "print(\"Sliced List 13:\",slicelist3)\r\n",
        "c=slicelist3[::-1]\r\n",
        "print(\"After revering the sliced list 3:\",c)"
      ],
      "execution_count": null,
      "outputs": [
        {
          "output_type": "stream",
          "text": [
            "Original list: [11, 42, 8, 23, 14, 12, 78, 45, 89]\n",
            "Sliced List 1: [11, 42, 8]\n",
            "After revering the sliced list 1: [8, 42, 11]\n",
            "Sliced List 2: [23, 14, 12]\n",
            "After revering the sliced list 2: [12, 14, 23]\n",
            "Sliced List 13: [78, 45, 89]\n",
            "After revering the sliced list 3: [89, 45, 78]\n"
          ],
          "name": "stdout"
        }
      ]
    },
    {
      "cell_type": "markdown",
      "metadata": {
        "id": "LwqgxxDJpJ73"
      },
      "source": [
        ""
      ]
    },
    {
      "cell_type": "markdown",
      "metadata": {
        "id": "BQAahevApKoQ"
      },
      "source": [
        ""
      ]
    },
    {
      "cell_type": "code",
      "metadata": {
        "colab": {
          "base_uri": "https://localhost:8080/"
        },
        "id": "du1_Svj2pLPV",
        "outputId": "309f3887-5067-4499-da7f-b18733f1e5b8"
      },
      "source": [
        "from collections import Counter\r\n",
        "\r\n",
        "\r\n",
        "def input_int():\r\n",
        "    keep_open = True\r\n",
        "    while keep_open == True:\r\n",
        "        int_list = []\r\n",
        "        try:\r\n",
        "            list_length = int(input('enter number of elements to be stored in list: '))\r\n",
        "            for input_nums in range(list_length):\r\n",
        "                input_nums = input('input nums: ')\r\n",
        "                int_list.append(input_nums)\r\n",
        "            for item in int_list:\r\n",
        "                print(f'element - {int_list.index(item)} : {item}\\n')\r\n",
        "\r\n",
        "            for items in int_list:\r\n",
        "                print(f'{items} occures {int_list.count(items)}\\n')\r\n",
        "\r\n",
        "            keep_open = False\r\n",
        "        except:\r\n",
        "            keep_open == True\r\n",
        "\r\n",
        "\r\n",
        "input_int()"
      ],
      "execution_count": null,
      "outputs": [
        {
          "output_type": "stream",
          "text": [
            "enter number of elements to be stored in list: 5\n",
            "input nums: 12\n",
            "input nums: 12\n",
            "input nums: 23\n",
            "input nums: 1\n",
            "input nums: 1\n",
            "element - 0 : 12\n",
            "\n",
            "element - 0 : 12\n",
            "\n",
            "element - 2 : 23\n",
            "\n",
            "element - 3 : 1\n",
            "\n",
            "element - 3 : 1\n",
            "\n",
            "12 occures 2\n",
            "\n",
            "12 occures 2\n",
            "\n",
            "23 occures 1\n",
            "\n",
            "1 occures 2\n",
            "\n",
            "1 occures 2\n",
            "\n"
          ],
          "name": "stdout"
        }
      ]
    },
    {
      "cell_type": "code",
      "metadata": {
        "colab": {
          "base_uri": "https://localhost:8080/"
        },
        "id": "xkI2BPyT6t_Q",
        "outputId": "a4ffe435-1ac3-4fae-bd4b-a3427bb53621"
      },
      "source": [
        "def print_to_number():\r\n",
        "\r\n",
        "    for i in range(1,10):\r\n",
        "\r\n",
        "        print (\"i = \", i)\r\n",
        "print_to_number()"
      ],
      "execution_count": null,
      "outputs": [
        {
          "output_type": "stream",
          "text": [
            "i =  1\n",
            "i =  3\n",
            "i =  5\n",
            "i =  7\n",
            "i =  9\n"
          ],
          "name": "stdout"
        }
      ]
    },
    {
      "cell_type": "code",
      "metadata": {
        "colab": {
          "base_uri": "https://localhost:8080/"
        },
        "id": "O_mF5LjV7AIp",
        "outputId": "4d80dee9-e3ae-493e-87df-dc02f7c24b62"
      },
      "source": [
        "def print_to_number():\r\n",
        "  i=1\r\n",
        "  while i < 10:\r\n",
        "    print(\"i = \",i)\r\n",
        "    i=i+1\r\n",
        "print_to_number()"
      ],
      "execution_count": null,
      "outputs": [
        {
          "output_type": "stream",
          "text": [
            "i =  1\n",
            "i =  2\n",
            "i =  3\n",
            "i =  4\n",
            "i =  5\n",
            "i =  6\n",
            "i =  7\n",
            "i =  8\n",
            "i =  9\n"
          ],
          "name": "stdout"
        }
      ]
    },
    {
      "cell_type": "markdown",
      "metadata": {
        "id": "srE0tdg1pRjx"
      },
      "source": [
        "#Question No 5"
      ]
    },
    {
      "cell_type": "code",
      "metadata": {
        "colab": {
          "base_uri": "https://localhost:8080/"
        },
        "id": "rWomrE_vpRGM",
        "outputId": "598d1c81-c50c-467f-f31a-026b90693e86"
      },
      "source": [
        "# List initialization\r\n",
        "list1 =[2, 3, 4, 5, 6, 7, 8]\r\n",
        "list2 =[4,9, 16, 25, 36, 49, 64]\r\n",
        " \r\n",
        "# using list comprehension\r\n",
        "output = [(a, b) for a in list1  \r\n",
        "          for b in list2 if a * a == b]\r\n",
        " \r\n",
        "# printing output\r\n",
        "print( \"Result is \",output)"
      ],
      "execution_count": null,
      "outputs": [
        {
          "output_type": "stream",
          "text": [
            "Result is  [(2, 4), (3, 9), (4, 16), (5, 25), (6, 36), (7, 49), (8, 64)]\n"
          ],
          "name": "stdout"
        }
      ]
    },
    {
      "cell_type": "markdown",
      "metadata": {
        "id": "q6Gy1F0apmdi"
      },
      "source": [
        "#Question no 6"
      ]
    },
    {
      "cell_type": "code",
      "metadata": {
        "colab": {
          "base_uri": "https://localhost:8080/"
        },
        "id": "V-mTwPZ9pnPW",
        "outputId": "069f240a-ed97-4883-8ec5-9d4df797c0d3"
      },
      "source": [
        "def set_itersection():\r\n",
        "    s1=set([55,37,388,34,658,665,8,54,5])\r\n",
        "    s2=set([55,48,665,658,56,55,1,4,5])\r\n",
        "    intersect = set.intersection(s1,s2)\r\n",
        "    print('set intersection {}'.format(intersect))\r\n",
        "    s1.difference_update(s2)\r\n",
        "    print('fists set minus intersect {}'.format(s1))\r\n",
        "\r\n",
        "set_itersection()\r\n"
      ],
      "execution_count": null,
      "outputs": [
        {
          "output_type": "stream",
          "text": [
            "set intersection {665, 658, 5, 55}\n",
            "fists set minus intersect {34, 388, 37, 8, 54}\n"
          ],
          "name": "stdout"
        }
      ]
    },
    {
      "cell_type": "markdown",
      "metadata": {
        "id": "nfTtSXzzp3nn"
      },
      "source": [
        "#Question No7\r\n"
      ]
    },
    {
      "cell_type": "code",
      "metadata": {
        "colab": {
          "base_uri": "https://localhost:8080/"
        },
        "id": "IDOIzpCcp9DD",
        "outputId": "92877bf7-f9e5-4e65-de4e-369f678d324d"
      },
      "source": [
        "firstSet={57,83,29}\r\n",
        "secondSet={67,73,43,48,83,57,29}\r\n",
        "print(\"First Set :\",firstSet)\r\n",
        "print(\"Second set :\",secondSet)\r\n",
        "print(\"\\n\")\r\n",
        "print(\"First set is subset of second set :\",firstSet.issubset(secondSet))\r\n",
        "print(\"Second set is sub set of first set :\",secondSet.issubset(firstSet))\r\n",
        "print(\"\\n\")\r\n",
        "print(\"First Set is super set of second set :\",firstSet.issuperset(secondSet))\r\n",
        "print(\"Second set is super set of first set :\",secondSet.issuperset(firstSet))\r\n",
        "firstSet.clear()\r\n",
        "print(\"First Set :\",firstSet)\r\n",
        "print(\"Second Set :\",secondSet)\r\n",
        "\r\n",
        "\r\n",
        "\r\n"
      ],
      "execution_count": null,
      "outputs": [
        {
          "output_type": "stream",
          "text": [
            "First Set : {57, 83, 29}\n",
            "Second set : {67, 73, 43, 48, 83, 57, 29}\n",
            "\n",
            "\n",
            "First set is subset of second set : True\n",
            "Second set is sub set of first set : False\n",
            "\n",
            "\n",
            "First Set is super set of second set : False\n",
            "Second set is super set of first set : True\n",
            "First Set : set()\n",
            "Second Set : {67, 73, 43, 48, 83, 57, 29}\n"
          ],
          "name": "stdout"
        }
      ]
    },
    {
      "cell_type": "markdown",
      "metadata": {
        "id": "zLQtrASeqFYL"
      },
      "source": [
        "#Quetion no 8"
      ]
    },
    {
      "cell_type": "code",
      "metadata": {
        "colab": {
          "base_uri": "https://localhost:8080/"
        },
        "id": "_Lq6GVmLqH0k",
        "outputId": "50c97440-a863-45da-9960-02446b4a2f6a"
      },
      "source": [
        "def in_dict():\r\n",
        "    list=[1,15,64,5,2,4,6,45,6]\r\n",
        "    lst_set=set(list)\r\n",
        "    dct={'john': 1,\r\n",
        "         'jane': 64,\r\n",
        "         'jack': 2}\r\n",
        "    dct_set=set(dct)\r\n",
        "    # for element in list:\r\n",
        "    #     print(element)\r\n",
        "    if lst_set.intersection(dct_set):\r\n",
        "        dct_set.difference_update(lst_set)\r\n",
        "\r\n",
        "\r\n",
        "\r\n",
        "if __name__ == '__main__':\r\n",
        "    # remove_replace()\r\n",
        "    print(set_itersection())\r\n",
        "    in_dict()"
      ],
      "execution_count": null,
      "outputs": [
        {
          "output_type": "stream",
          "text": [
            "set intersection {665, 658, 5, 55}\n",
            "fists set minus intersect {34, 388, 37, 8, 54}\n",
            "None\n"
          ],
          "name": "stdout"
        }
      ]
    }
  ]
}