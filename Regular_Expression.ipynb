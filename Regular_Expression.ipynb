{
  "nbformat": 4,
  "nbformat_minor": 0,
  "metadata": {
    "colab": {
      "name": "Regular_Expression.ipynb",
      "provenance": [],
      "authorship_tag": "ABX9TyPKTfRHBrzHBqb8c0FaLkQL",
      "include_colab_link": true
    },
    "kernelspec": {
      "name": "python3",
      "display_name": "Python 3"
    },
    "language_info": {
      "name": "python"
    }
  },
  "cells": [
    {
      "cell_type": "markdown",
      "metadata": {
        "id": "view-in-github",
        "colab_type": "text"
      },
      "source": [
        "<a href=\"https://colab.research.google.com/github/pradeep004/Udemy-Python-Programming/blob/main/Regular_Expression.ipynb\" target=\"_parent\"><img src=\"https://colab.research.google.com/assets/colab-badge.svg\" alt=\"Open In Colab\"/></a>"
      ]
    },
    {
      "cell_type": "code",
      "metadata": {
        "colab": {
          "base_uri": "https://localhost:8080/"
        },
        "id": "GSup4hTZBCT6",
        "outputId": "a3573571-d22c-4942-c6bb-5887b9efff5a"
      },
      "source": [
        "import re\n",
        "\n",
        "pattern = re.compile('the')\n",
        "string = 'search inside the string please..!'\n",
        "\n",
        "a = pattern.search(string)\n",
        "b = pattern.findall(string)\n",
        "print(b)#it shows ouput in lists\n",
        "print(a.span())# wherethe string occurs\n",
        "print(a.group())#useful when trying to do multiple searches\n",
        "\n"
      ],
      "execution_count": 8,
      "outputs": [
        {
          "output_type": "stream",
          "text": [
            "['the']\n",
            "(14, 17)\n",
            "the\n"
          ],
          "name": "stdout"
        }
      ]
    },
    {
      "cell_type": "code",
      "metadata": {
        "colab": {
          "base_uri": "https://localhost:8080/"
        },
        "id": "61Xvhw2qBYAj",
        "outputId": "6888c869-9e1f-458c-8763-a1bc56c4163f"
      },
      "source": [
        " #regular expression\n",
        " #Pattern matching \n",
        "#Password checkers\n",
        "import re\n",
        "\n",
        "pattern = re.compile(r\"[A-Za-z0-9#$@%]{8,}\\d\")\n",
        "\n",
        "pattern_password = re.compile(r\"[A-Za-z0-9#$@%]{8,}\\d\") \n",
        "password = 'iihgregh'\n",
        "a = pattern.search(password)\n",
        "\n",
        "#check = pattern_password.fullsearch()\n",
        "print(a)"
      ],
      "execution_count": 16,
      "outputs": [
        {
          "output_type": "stream",
          "text": [
            "None\n"
          ],
          "name": "stdout"
        }
      ]
    },
    {
      "cell_type": "code",
      "metadata": {
        "id": "-uyIOUFDHIAi"
      },
      "source": [
        ""
      ],
      "execution_count": 13,
      "outputs": []
    }
  ]
}