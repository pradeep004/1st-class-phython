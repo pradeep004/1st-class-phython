{
  "nbformat": 4,
  "nbformat_minor": 0,
  "metadata": {
    "colab": {
      "name": "python_Global_variable_Scope.ipynb",
      "provenance": [],
      "collapsed_sections": [],
      "authorship_tag": "ABX9TyPIDw9UCfz4CmiHU3LlCbMR",
      "include_colab_link": true
    },
    "kernelspec": {
      "name": "python3",
      "display_name": "Python 3"
    }
  },
  "cells": [
    {
      "cell_type": "markdown",
      "metadata": {
        "id": "view-in-github",
        "colab_type": "text"
      },
      "source": [
        "<a href=\"https://colab.research.google.com/github/pradeep004/Udemy-Python-Programming/blob/main/python_Global_variable_Scope.ipynb\" target=\"_parent\"><img src=\"https://colab.research.google.com/assets/colab-badge.svg\" alt=\"Open In Colab\"/></a>"
      ]
    },
    {
      "cell_type": "code",
      "metadata": {
        "colab": {
          "base_uri": "https://localhost:8080/"
        },
        "id": "mDuSE81fyCiL",
        "outputId": "b0d22d69-8563-4323-a534-9907ca2b9eaa"
      },
      "source": [
        "def is_even(num):\r\n",
        "  return num % 2 == 0\r\n",
        "\r\n",
        "print(is_even(30))"
      ],
      "execution_count": null,
      "outputs": [
        {
          "output_type": "stream",
          "text": [
            "True\n"
          ],
          "name": "stdout"
        }
      ]
    },
    {
      "cell_type": "code",
      "metadata": {
        "colab": {
          "base_uri": "https://localhost:8080/"
        },
        "id": "o2xYbov9ynEa",
        "outputId": "6c72836b-e40c-4d45-b74e-3505b3e6742d"
      },
      "source": [
        "#Arguments - *args and Keyword Arguments - **kwargs\r\n",
        "def super_func(*args, **kwargs):\r\n",
        "  total = 0\r\n",
        "  for items in kwargs.values():\r\n",
        "    total +=items\r\n",
        "  print(args)\r\n",
        "  print(kwargs)\r\n",
        "  return sum(args) + total\r\n",
        "\r\n",
        "super_func(1,2,3,4,5, num1 = 5, num2 = 10)\r\n",
        "\r\n",
        "#Rules : params, *args, default params,**kwargs"
      ],
      "execution_count": null,
      "outputs": [
        {
          "output_type": "stream",
          "text": [
            "(1, 2, 3, 4, 5)\n",
            "{'num1': 5, 'num2': 10}\n"
          ],
          "name": "stdout"
        },
        {
          "output_type": "execute_result",
          "data": {
            "text/plain": [
              "30"
            ]
          },
          "metadata": {
            "tags": []
          },
          "execution_count": 9
        }
      ]
    },
    {
      "cell_type": "code",
      "metadata": {
        "colab": {
          "base_uri": "https://localhost:8080/"
        },
        "id": "dBXiffcF1exo",
        "outputId": "3157cf47-4d11-40ba-9bdf-48220c916ec3"
      },
      "source": [
        "#TO print the highest even number \r\n",
        "def highest_even(my_list):\r\n",
        "  even = []\r\n",
        "  for values in my_list:\r\n",
        "    if values % 2 == 0:\r\n",
        "      even.append(values)\r\n",
        "  return max(even)\r\n",
        "\r\n",
        "print(highest_even([2,3,4,6,11,10]))"
      ],
      "execution_count": null,
      "outputs": [
        {
          "output_type": "stream",
          "text": [
            "11\n"
          ],
          "name": "stdout"
        }
      ]
    },
    {
      "cell_type": "code",
      "metadata": {
        "colab": {
          "base_uri": "https://localhost:8080/"
        },
        "id": "YR07oMZ76Kcj",
        "outputId": "d1f2bb0e-a26d-46c9-cb44-ecaf83634160"
      },
      "source": [
        "#Walrus Operator - := \r\n",
        "a = 'apple'\r\n",
        "if (len(a)) < 10:\r\n",
        "  print(f\"too short {len(a)} elements\")"
      ],
      "execution_count": 2,
      "outputs": [
        {
          "output_type": "stream",
          "text": [
            "too short 5 elements\n"
          ],
          "name": "stdout"
        }
      ]
    },
    {
      "cell_type": "code",
      "metadata": {
        "id": "8QWTqUZW_FEV"
      },
      "source": [
        "#Scope :- what variable do i have access to ?\r\n",
        "\r\n",
        "def total_fun():\r\n",
        "  total = 10\r\n",
        "  print(total)\r\n",
        " "
      ],
      "execution_count": 4,
      "outputs": []
    },
    {
      "cell_type": "code",
      "metadata": {
        "colab": {
          "base_uri": "https://localhost:8080/"
        },
        "id": "7ggrYUoC_jSq",
        "outputId": "71cbc793-9782-4dca-c4b7-4af9c988bbf2"
      },
      "source": [
        "#Scope rule\r\n",
        "\r\n",
        "# 1).Starts with local \r\n",
        "# 2). Parent local \r\n",
        "# 3).Global\r\n",
        "# 4).Built in function\r\n",
        "\r\n",
        "a = 1\r\n",
        "\r\n",
        "def confusion():\r\n",
        "  a = 5\r\n",
        "  return a\r\n",
        "\r\n",
        "print(a) # print the global variable \r\n",
        "print(confusion()) #print inside the function \r\n",
        "\r\n",
        "\r\n"
      ],
      "execution_count": 6,
      "outputs": [
        {
          "output_type": "stream",
          "text": [
            "1\n",
            "5\n"
          ],
          "name": "stdout"
        }
      ]
    },
    {
      "cell_type": "markdown",
      "metadata": {
        "id": "0tchTPk3a2tI"
      },
      "source": [
        "#####Why do we Scope\r\n",
        "#####Its because of the memmory size of the machine is limited"
      ]
    },
    {
      "cell_type": "code",
      "metadata": {
        "colab": {
          "base_uri": "https://localhost:8080/"
        },
        "id": "djhl4q3dACkm",
        "outputId": "9519e8d1-e45a-4f8b-8f32-84ce644db68f"
      },
      "source": [
        "#Scope\r\n",
        "def outer():\r\n",
        "  x = 'local'\r\n",
        "  def inner():\r\n",
        "    nonlocal x\r\n",
        "    x = 'nonlocal'\r\n",
        "    print('inner :',x )\r\n",
        "  inner()\r\n",
        "  print('outer :',x)\r\n",
        "outer()\r\n"
      ],
      "execution_count": 16,
      "outputs": [
        {
          "output_type": "stream",
          "text": [
            "inner : nonlocal\n",
            "outer : nonlocal\n"
          ],
          "name": "stdout"
        }
      ]
    }
  ]
}