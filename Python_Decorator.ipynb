{
  "nbformat": 4,
  "nbformat_minor": 0,
  "metadata": {
    "colab": {
      "name": "Python_Decorator.ipynb",
      "provenance": [],
      "authorship_tag": "ABX9TyOJi+77JKVGZkAGFyCDVvok",
      "include_colab_link": true
    },
    "kernelspec": {
      "name": "python3",
      "display_name": "Python 3"
    }
  },
  "cells": [
    {
      "cell_type": "markdown",
      "metadata": {
        "id": "view-in-github",
        "colab_type": "text"
      },
      "source": [
        "<a href=\"https://colab.research.google.com/github/pradeep004/Udemy-Python-Programming/blob/main/Python_Decorator.ipynb\" target=\"_parent\"><img src=\"https://colab.research.google.com/assets/colab-badge.svg\" alt=\"Open In Colab\"/></a>"
      ]
    },
    {
      "cell_type": "code",
      "metadata": {
        "id": "XAdeUNTZ9FTo"
      },
      "source": [
        "#Higher order function are map,reduce,filter\r\n",
        "def greet(func):\r\n",
        "  func()\r\n",
        "\r\n",
        "def greet2():\r\n",
        "  def func():\r\n",
        "    return 5\r\n",
        "  return func\r\n"
      ],
      "execution_count": 1,
      "outputs": []
    },
    {
      "cell_type": "code",
      "metadata": {
        "colab": {
          "base_uri": "https://localhost:8080/"
        },
        "id": "3EOoproZ-hMS",
        "outputId": "963be328-3ada-4737-c9eb-b16fc41fab4f"
      },
      "source": [
        "#Decorator\r\n",
        "\r\n",
        "#Decorator pattern \r\n",
        "def my_decorator(func):\r\n",
        "  def wrap_func(*args, **kwargs):\r\n",
        "    print('*********')\r\n",
        "    func(*args, **kwargs)\r\n",
        "    print(\"*********\")\r\n",
        "  return wrap_func\r\n",
        "\r\n",
        "@my_decorator\r\n",
        "def hello(greeting, emoji = ':)'):\r\n",
        "  print(greeting, emoji)\r\n",
        "hello(\"hiiii\")"
      ],
      "execution_count": 8,
      "outputs": [
        {
          "output_type": "stream",
          "text": [
            "*********\n",
            "hiiii :)\n",
            "*********\n"
          ],
          "name": "stdout"
        }
      ]
    },
    {
      "cell_type": "code",
      "metadata": {
        "colab": {
          "base_uri": "https://localhost:8080/"
        },
        "id": "7yuSzkmt-31j",
        "outputId": "50651109-b93a-423e-d943-03aa92f17971"
      },
      "source": [
        "#Why do we need decorator\r\n",
        "from time import time\r\n",
        "def performance(fun):\r\n",
        "  def wrapper(*args, **kawrgs):\r\n",
        "    t1 = time()\r\n",
        "    result = fun(*args, **kawrgs)\r\n",
        "    t2 =time()\r\n",
        "    print('time taken to compile {} '.format(t2-t1))\r\n",
        "    return result\r\n",
        "  return wrapper\r\n",
        "@performance\r\n",
        "def long_time():\r\n",
        "  for i in range(1000000):\r\n",
        "    i * 5\r\n",
        "\r\n",
        "long_time()"
      ],
      "execution_count": 10,
      "outputs": [
        {
          "output_type": "stream",
          "text": [
            "time taken to compile 0.058881282806396484 \n"
          ],
          "name": "stdout"
        }
      ]
    },
    {
      "cell_type": "code",
      "metadata": {
        "id": "n4vI5bVEIehl"
      },
      "source": [
        ""
      ],
      "execution_count": null,
      "outputs": []
    }
  ]
}