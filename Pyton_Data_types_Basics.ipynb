{
  "nbformat": 4,
  "nbformat_minor": 0,
  "metadata": {
    "colab": {
      "name": "Pyton_Data_types_Basics.ipynb",
      "provenance": [],
      "collapsed_sections": [
        "wHpU-Pt3v7eH",
        "_nwHFKDuxJF3",
        "OBrwqf1BzjiR",
        "pVo33p7U06CY",
        "VY0UDtEZ2pLa",
        "dnXYG60M3wC-",
        "iYVDOgXJ5Bby",
        "qMZnparJ6rir",
        "Ef-7CqDa7ak0"
      ],
      "authorship_tag": "ABX9TyNxyLebjONnfmvIsp9jbo7z",
      "include_colab_link": true
    },
    "kernelspec": {
      "name": "python3",
      "display_name": "Python 3"
    }
  },
  "cells": [
    {
      "cell_type": "markdown",
      "metadata": {
        "id": "view-in-github",
        "colab_type": "text"
      },
      "source": [
        "<a href=\"https://colab.research.google.com/github/pradeep004/Python-Programming/blob/main/Pyton_Data_types_Basics.ipynb\" target=\"_parent\"><img src=\"https://colab.research.google.com/assets/colab-badge.svg\" alt=\"Open In Colab\"/></a>"
      ]
    },
    {
      "cell_type": "markdown",
      "metadata": {
        "id": "9I9U69Ctsr7R"
      },
      "source": [
        "#Fundamental data Types \r\n",
        "Type Casting"
      ]
    },
    {
      "cell_type": "code",
      "metadata": {
        "id": "D4QHYgaNbpvE"
      },
      "source": [
        "#Fundamental Data Types \r\n",
        "#int \r\n",
        "#float\r\n",
        "#boolean\r\n",
        "#string\r\n",
        "#List\r\n",
        "#Directories\r\n",
        "#Tuples\r\n",
        "#sets\r\n"
      ],
      "execution_count": null,
      "outputs": []
    },
    {
      "cell_type": "code",
      "metadata": {
        "colab": {
          "base_uri": "https://localhost:8080/"
        },
        "id": "AlfPuY7qr3Dy",
        "outputId": "82c3b09c-30b6-4557-b723-00b6f007c445"
      },
      "source": [
        "#int and float\r\n",
        "#Type Casting using type Function\r\n",
        "print(type(6))\r\n",
        "print(type(10.43))\r\n",
        "\r\n",
        "#MAthematical operation\r\n",
        "print(2 + 4)\r\n",
        "print(2 - 4)\r\n",
        "print(2 * 4)\r\n",
        "print(2 / 4)\r\n",
        "\r\n",
        "\r\n",
        "print(2 **3) # ** used as Exponential\r\n",
        "print(2 // 3) # // Floar Division Round the result to nearest number\r\n",
        "print(5 % 4) # 5 modulus returns reminder\r\n",
        "\r\n",
        "\r\n",
        "# math function\r\n",
        "print(round(3.1))\r\n",
        "print(round(3.9))\r\n",
        "print(abs(-20))"
      ],
      "execution_count": null,
      "outputs": [
        {
          "output_type": "stream",
          "text": [
            "<class 'int'>\n",
            "<class 'float'>\n",
            "6\n",
            "-2\n",
            "8\n",
            "0.5\n",
            "8\n",
            "0\n",
            "1\n",
            "3\n",
            "4\n",
            "20\n"
          ],
          "name": "stdout"
        }
      ]
    },
    {
      "cell_type": "markdown",
      "metadata": {
        "id": "wHpU-Pt3v7eH"
      },
      "source": [
        "#####operator precedence"
      ]
    },
    {
      "cell_type": "code",
      "metadata": {
        "colab": {
          "base_uri": "https://localhost:8080/"
        },
        "id": "ro99ZHo-vFmc",
        "outputId": "90e904d5-bf4f-428f-ef4f-bc2b6b3647fe"
      },
      "source": [
        "# As Follows\r\n",
        "#()\r\n",
        "# **\r\n",
        "# * /\r\n",
        "# + -\r\n",
        "\r\n",
        "\r\n",
        "print(20 -3 * 4)"
      ],
      "execution_count": null,
      "outputs": [
        {
          "output_type": "stream",
          "text": [
            "8\n"
          ],
          "name": "stdout"
        }
      ]
    },
    {
      "cell_type": "markdown",
      "metadata": {
        "id": "_nwHFKDuxJF3"
      },
      "source": [
        "######Complex "
      ]
    },
    {
      "cell_type": "code",
      "metadata": {
        "id": "4TgofIKxxSJo"
      },
      "source": [
        "# bin for Binary Numbers\r\n",
        "print(bin(5))\r\n",
        "print(int('0b101',2))\r\n",
        "\r\n",
        "#Constants\r\n",
        "PI = 3.14\r\n",
        "\r\n",
        "#Assigning values\r\n",
        "a,b,c =1,2,3\r\n",
        "print(a)\r\n",
        "print(b)\r\n",
        "print(c)\r\n"
      ],
      "execution_count": null,
      "outputs": []
    },
    {
      "cell_type": "markdown",
      "metadata": {
        "id": "OBrwqf1BzjiR"
      },
      "source": [
        "#####Expression v/s Statements"
      ]
    },
    {
      "cell_type": "code",
      "metadata": {
        "colab": {
          "base_uri": "https://localhost:8080/"
        },
        "id": "q6D98w9izt3-",
        "outputId": "34ff0901-7d78-42fc-a5a7-375aeefc232d"
      },
      "source": [
        "iq = 100\r\n",
        "user = iq / 5   # line is Statement  iq/ 5 i expession\r\n",
        "\r\n",
        "#argument assignment operator\r\n",
        "some_value = 5\r\n",
        "some_value += 2\r\n",
        "print(some_value)\r\n"
      ],
      "execution_count": null,
      "outputs": [
        {
          "output_type": "stream",
          "text": [
            "7\n"
          ],
          "name": "stdout"
        }
      ]
    },
    {
      "cell_type": "markdown",
      "metadata": {
        "id": "pVo33p7U06CY"
      },
      "source": [
        "#####Strings"
      ]
    },
    {
      "cell_type": "code",
      "metadata": {
        "colab": {
          "base_uri": "https://localhost:8080/"
        },
        "id": "6bdW6YYk08Cj",
        "outputId": "c27de96e-c242-4350-bdc8-f2cd343e0f99"
      },
      "source": [
        "# written with quatation\r\n",
        "print(type(\"hi welcome to python programming\"))\r\n",
        "long_string = '''\r\n",
        "My Name is Pradeep\r\n",
        "I'm from India\r\n",
        "'''\r\n",
        "print(long_string)\r\n",
        "\r\n",
        "first_name = 'Pradeep'\r\n",
        "last_name = 'Angadageri'\r\n",
        "\r\n",
        "#String Concatination\r\n",
        "full_name =first_name + last_name\r\n",
        "print(full_name)\r\n",
        "\r\n",
        "\r\n",
        "#Type Conversion\r\n",
        "a = str(200)\r\n",
        "b = int(a)\r\n",
        "\r\n",
        "print(type(a))\r\n",
        "print(type(b))\r\n",
        "\r\n",
        "\r\n",
        "\r\n"
      ],
      "execution_count": null,
      "outputs": [
        {
          "output_type": "stream",
          "text": [
            "<class 'str'>\n",
            "\n",
            "My Name is Pradeep\n",
            "I'm from India\n",
            "\n",
            "PradeepAngadageri\n"
          ],
          "name": "stdout"
        }
      ]
    },
    {
      "cell_type": "markdown",
      "metadata": {
        "id": "VY0UDtEZ2pLa"
      },
      "source": [
        "#####Escape sequence"
      ]
    },
    {
      "cell_type": "code",
      "metadata": {
        "colab": {
          "base_uri": "https://localhost:8080/"
        },
        "id": "cn6pISUu2uUA",
        "outputId": "dae0f28f-293b-498c-c31c-e2b04b1ebbac"
      },
      "source": [
        "box = \"\\t It\\'s \\\"Kind of\\\" full \\n box has a long history\"\r\n",
        "print(box)"
      ],
      "execution_count": null,
      "outputs": [
        {
          "output_type": "stream",
          "text": [
            "\t It's \"Kind of\" full \n",
            " box has a lng history\n"
          ],
          "name": "stdout"
        }
      ]
    },
    {
      "cell_type": "markdown",
      "metadata": {
        "id": "dnXYG60M3wC-"
      },
      "source": [
        "#####Formatted String"
      ]
    },
    {
      "cell_type": "code",
      "metadata": {
        "colab": {
          "base_uri": "https://localhost:8080/"
        },
        "id": "YZDUbzSm3y0E",
        "outputId": "e0e83cce-a63b-4826-efc3-5852806cd94e"
      },
      "source": [
        "name = 'pradeep'\r\n",
        "age = 24\r\n",
        "\r\n",
        "print(f'hi {name}. you are {age} years old.')\r\n",
        "print('hi {}. you are {} years old '.format(name, age))\r\n"
      ],
      "execution_count": null,
      "outputs": [
        {
          "output_type": "stream",
          "text": [
            "hi pradeep. you are 24 years old.\n",
            "hi pradeep. you are 24 years old \n"
          ],
          "name": "stdout"
        }
      ]
    },
    {
      "cell_type": "markdown",
      "metadata": {
        "id": "iYVDOgXJ5Bby"
      },
      "source": [
        "#####String Indexes"
      ]
    },
    {
      "cell_type": "code",
      "metadata": {
        "colab": {
          "base_uri": "https://localhost:8080/"
        },
        "id": "F3-TefeF5EGl",
        "outputId": "be55eda2-7682-4741-d6fe-b8be966b2cd0"
      },
      "source": [
        "game = 'For Cry'\r\n",
        "\r\n",
        "#[start:stop:stepover]\r\n",
        "print(game[0:7:2])\r\n",
        "print(game[1:])\r\n",
        "print(game[:5])\r\n",
        "print(game[::-2])"
      ],
      "execution_count": null,
      "outputs": [
        {
          "output_type": "stream",
          "text": [
            "FrCy\n",
            "or Cry\n",
            "For C\n",
            "yCrF\n"
          ],
          "name": "stdout"
        }
      ]
    },
    {
      "cell_type": "markdown",
      "metadata": {
        "id": "qMZnparJ6rir"
      },
      "source": [
        "#####Immutabilty - String cann't change value once created "
      ]
    },
    {
      "cell_type": "code",
      "metadata": {
        "colab": {
          "base_uri": "https://localhost:8080/"
        },
        "id": "rbNrAjRR6vhw",
        "outputId": "bd0b11ee-dcc9-439e-e82d-34d970ea11ee"
      },
      "source": [
        "game = 'For Cry'\r\n",
        "game = game +'4'\r\n",
        "print(game)"
      ],
      "execution_count": null,
      "outputs": [
        {
          "output_type": "stream",
          "text": [
            "For Cry4\n"
          ],
          "name": "stdout"
        }
      ]
    },
    {
      "cell_type": "markdown",
      "metadata": {
        "id": "Ef-7CqDa7ak0"
      },
      "source": [
        "#####Python Built-In Function"
      ]
    },
    {
      "cell_type": "code",
      "metadata": {
        "colab": {
          "base_uri": "https://localhost:8080/"
        },
        "id": "ldnw9gMw7hlC",
        "outputId": "4036cd50-ca9d-4212-b124-02c27942f0ec"
      },
      "source": [
        "greet ='How are you'\r\n",
        "print(greet[0:len(greet)])\r\n",
        "\r\n",
        "#String Methods\r\n",
        "game = \"how much level completed in For Cry\"\r\n",
        "\r\n",
        "print(game.upper())\r\n",
        "print(game.capitalize())\r\n",
        "print(game.lower())\r\n",
        "print(game.find('For'))\r\n",
        "print(game.replace('completed','completing'))"
      ],
      "execution_count": null,
      "outputs": [
        {
          "output_type": "stream",
          "text": [
            "How are you\n",
            "HOW MUCH LEVEL COMPLETED IN FOR CRY\n",
            "How much level completed in for cry\n",
            "how much level completed in for cry\n",
            "28\n",
            "how much level completing in For Cry\n"
          ],
          "name": "stdout"
        }
      ]
    },
    {
      "cell_type": "markdown",
      "metadata": {
        "id": "niWIvhIY9t6z"
      },
      "source": [
        "#####Boolean"
      ]
    },
    {
      "cell_type": "code",
      "metadata": {
        "colab": {
          "base_uri": "https://localhost:8080/"
        },
        "id": "_TysIyVP9wdB",
        "outputId": "56f12d62-0652-4641-a266-d86a9088988a"
      },
      "source": [
        "#booleans\r\n",
        "name= 'pradeep'\r\n",
        "is_cool = False\r\n",
        "is_cool = True\r\n",
        "\r\n",
        "print(bool('pro'))"
      ],
      "execution_count": null,
      "outputs": [
        {
          "output_type": "stream",
          "text": [
            "True\n"
          ],
          "name": "stdout"
        }
      ]
    },
    {
      "cell_type": "markdown",
      "metadata": {
        "id": "R2mj5H5F9ttX"
      },
      "source": [
        "#####User Input Function"
      ]
    },
    {
      "cell_type": "code",
      "metadata": {
        "colab": {
          "base_uri": "https://localhost:8080/"
        },
        "id": "UaCqq8cJ-zWi",
        "outputId": "e85f0c25-2a21-4892-9202-2e672004675e"
      },
      "source": [
        "birth_year = input(\"what year you were born  :\")\r\n",
        "print(type(birth_year))\r\n",
        "age = 2020 - int(birth_year)\r\n",
        "\r\n",
        "print(f'your age is : {age}')\r\n",
        "print (\"your age is : {}\".format(age))"
      ],
      "execution_count": null,
      "outputs": [
        {
          "output_type": "stream",
          "text": [
            "what year you were born ?1997\n",
            "<class 'str'>\n",
            "your age is : 23\n",
            "your age is : 23\n"
          ],
          "name": "stdout"
        }
      ]
    },
    {
      "cell_type": "markdown",
      "metadata": {
        "id": "Ysea6VkzAN2d"
      },
      "source": [
        "#Exercise"
      ]
    },
    {
      "cell_type": "code",
      "metadata": {
        "colab": {
          "base_uri": "https://localhost:8080/"
        },
        "id": "y9FEnM25AXrp",
        "outputId": "11cad450-7b07-487f-8398-b09c3a1af229"
      },
      "source": [
        "username= input(\"Enter your user name:\")\r\n",
        "password = input(\"Enter  your password :\")\r\n",
        "secret = '*' * len(password)\r\n",
        "print(\"Hi {},\\nYour passsword is {}, is  {} letters long\".format(username,secret,len(password)))"
      ],
      "execution_count": null,
      "outputs": [
        {
          "output_type": "stream",
          "text": [
            "Enter your user name:pradep\n",
            "Enter  your password :214234\n",
            "Hi pradep,\n",
            "Your passsword is ******, is  6 letters long\n"
          ],
          "name": "stdout"
        }
      ]
    },
    {
      "cell_type": "markdown",
      "metadata": {
        "id": "7neY-LljB-Z9"
      },
      "source": [
        "####Lists -It is an orderd sequence of objects"
      ]
    },
    {
      "cell_type": "code",
      "metadata": {
        "colab": {
          "base_uri": "https://localhost:8080/"
        },
        "id": "HW--CoptCJMU",
        "outputId": "3d0f6ed9-6a89-49a5-812d-257859b57e43"
      },
      "source": [
        "new_list = [1,2,3,4,5]\r\n",
        "sample_list = ['notebooks','gamesBooks','groceries']\r\n",
        "print(sample_list[1])\r\n",
        "\r\n",
        "#List Slicing\r\n",
        "print(sample_list[0:2])\r\n",
        "\r\n",
        "#List are Mutable\r\n",
        "sample_list[1] = 'horror'\r\n",
        "print(sample_list[0:4])\r\n",
        "\r\n",
        "sample_list[0] ='cartoons'\r\n",
        "same_list = sample_list # Copy all item retu n in both list \r\n",
        "#same_list = sample_list[:]\r\n",
        "same_list[0] = 'pogo'\r\n",
        "print(same_list)\r\n",
        "print(sample_list)"
      ],
      "execution_count": null,
      "outputs": [
        {
          "output_type": "stream",
          "text": [
            "gamesBooks\n",
            "['notebooks', 'gamesBooks']\n",
            "['notebooks', 'horror', 'groceries']\n",
            "['pogo', 'horror', 'groceries']\n",
            "['pogo', 'horror', 'groceries']\n"
          ],
          "name": "stdout"
        }
      ]
    },
    {
      "cell_type": "markdown",
      "metadata": {
        "id": "U5vd_FkbE4i8"
      },
      "source": [
        "#####Matrix"
      ]
    },
    {
      "cell_type": "code",
      "metadata": {
        "colab": {
          "base_uri": "https://localhost:8080/"
        },
        "id": "TS6D6ImFE9Yk",
        "outputId": "ad80d95e-fb2b-4e0f-88f6-64b3f922118b"
      },
      "source": [
        "#matrix\r\n",
        "matrix = [\r\n",
        "          [1,2,3],\r\n",
        "          [2,4,6],\r\n",
        "          [7,8,9]\r\n",
        "]\r\n",
        "print(matrix[0][1])"
      ],
      "execution_count": null,
      "outputs": [
        {
          "output_type": "stream",
          "text": [
            "2\n"
          ],
          "name": "stdout"
        }
      ]
    },
    {
      "cell_type": "markdown",
      "metadata": {
        "id": "-tSAqu6RF4ja"
      },
      "source": [
        "#####List Methods"
      ]
    },
    {
      "cell_type": "code",
      "metadata": {
        "colab": {
          "base_uri": "https://localhost:8080/"
        },
        "id": "CKR3mv3kGB7w",
        "outputId": "b39fe3c5-702d-4c8d-ef03-d0a99162955f"
      },
      "source": [
        "basket = [1,2,3,4,5]\r\n",
        "\r\n",
        "#adding\r\n",
        "print(basket.append(100))\r\n",
        "basket.insert(2,100)#Modifies List\r\n",
        "basket.extend([100,102])\r\n",
        "print(basket)\r\n",
        "\r\n",
        "\r\n",
        "#removing \r\n",
        "basket.pop(0) # remove by index\r\n",
        "basket.remove(3) #remove by values\r\n",
        "#Reomve all values basket.clear()\r\n",
        "print(basket)\r\n",
        "\r\n",
        "#index\r\n",
        "print(basket.index(2))\r\n",
        "\r\n",
        "print(100 in basket)\r\n",
        "print(99 in basket)\r\n",
        "print(basket.count(100))\r\n",
        "#Sorting method in list\r\n",
        "#basket.sort()\r\n",
        "print(sorted(basket))#Create a new copy of basket\r\n",
        "basket.sort()\r\n",
        "basket.reverse()\r\n",
        "print(basket)"
      ],
      "execution_count": null,
      "outputs": [
        {
          "output_type": "stream",
          "text": [
            "None\n",
            "[1, 2, 100, 3, 4, 5, 100, 100, 102]\n",
            "[2, 100, 4, 5, 100, 100, 102]\n",
            "0\n",
            "True\n",
            "False\n",
            "3\n",
            "[2, 4, 5, 100, 100, 100, 102]\n",
            "[102, 100, 100, 100, 5, 4, 2]\n"
          ],
          "name": "stdout"
        }
      ]
    },
    {
      "cell_type": "markdown",
      "metadata": {
        "id": "N-RP7DgUJu4X"
      },
      "source": [
        "#####Common list Pattern"
      ]
    },
    {
      "cell_type": "code",
      "metadata": {
        "colab": {
          "base_uri": "https://localhost:8080/"
        },
        "id": "WhjfHoqFJ0Tt",
        "outputId": "99c15460-c031-44a2-984b-3c5d6eb61bd1"
      },
      "source": [
        "basket.sort()\r\n",
        "basket.reverse()\r\n",
        "print(basket[::-1])#Create a new list \r\n",
        "print(basket)\r\n",
        "\r\n",
        "#Range\r\n",
        "print(list(range(1,100)))\r\n"
      ],
      "execution_count": null,
      "outputs": [
        {
          "output_type": "stream",
          "text": [
            "[2, 4, 5, 100, 100, 100, 102]\n",
            "[102, 100, 100, 100, 5, 4, 2]\n",
            "[1, 2, 3, 4, 5, 6, 7, 8, 9, 10, 11, 12, 13, 14, 15, 16, 17, 18, 19, 20, 21, 22, 23, 24, 25, 26, 27, 28, 29, 30, 31, 32, 33, 34, 35, 36, 37, 38, 39, 40, 41, 42, 43, 44, 45, 46, 47, 48, 49, 50, 51, 52, 53, 54, 55, 56, 57, 58, 59, 60, 61, 62, 63, 64, 65, 66, 67, 68, 69, 70, 71, 72, 73, 74, 75, 76, 77, 78, 79, 80, 81, 82, 83, 84, 85, 86, 87, 88, 89, 90, 91, 92, 93, 94, 95, 96, 97, 98, 99]\n"
          ],
          "name": "stdout"
        }
      ]
    },
    {
      "cell_type": "markdown",
      "metadata": {
        "id": "_STC3fKgK2iJ"
      },
      "source": [
        "#####List Unpacking"
      ]
    },
    {
      "cell_type": "code",
      "metadata": {
        "colab": {
          "base_uri": "https://localhost:8080/"
        },
        "id": "zz4jQixYK5ma",
        "outputId": "57e80918-2bda-4a51-f19c-ab01b4c2a586"
      },
      "source": [
        "a,b,c, * other, d = [1,2,3,4,4,5,6]\r\n",
        "print(a)\r\n",
        "print(b)\r\n",
        "print(c)\r\n",
        "print(other)\r\n",
        "print(d)\r\n"
      ],
      "execution_count": null,
      "outputs": [
        {
          "output_type": "stream",
          "text": [
            "1\n",
            "2\n",
            "3\n",
            "[4, 4, 5]\n",
            "6\n"
          ],
          "name": "stdout"
        }
      ]
    },
    {
      "cell_type": "markdown",
      "metadata": {
        "id": "YzT-rEdnMBCK"
      },
      "source": [
        "####Dictionries"
      ]
    },
    {
      "cell_type": "code",
      "metadata": {
        "colab": {
          "base_uri": "https://localhost:8080/"
        },
        "id": "PbWV7dY-MDU1",
        "outputId": "82097d5f-533e-4250-9694-ae661bf4ca21"
      },
      "source": [
        "#Dictionary\r\n",
        "dictionary = {\r\n",
        "    'a' : [1,2,3],\r\n",
        "    'b' : 'game',\r\n",
        "    'x' : True\r\n",
        "}\r\n",
        "\r\n",
        "print(dictionary)"
      ],
      "execution_count": null,
      "outputs": [
        {
          "output_type": "stream",
          "text": [
            "{'a': [1, 2, 3], 'b': 'game', 'x': True}\n"
          ],
          "name": "stdout"
        }
      ]
    },
    {
      "cell_type": "markdown",
      "metadata": {
        "id": "1h4pnVDyNb8P"
      },
      "source": [
        "#####Dictionoriess keys"
      ]
    },
    {
      "cell_type": "code",
      "metadata": {
        "colab": {
          "base_uri": "https://localhost:8080/"
        },
        "id": "xFiqEGkPNfDF",
        "outputId": "74eb7a44-3b20-41a0-d288-f8ae0f80dc64"
      },
      "source": [
        "#Key-Value Pair -key has to be unque\r\n",
        "dictionries = {\r\n",
        "    'basket' : [1,2,3],\r\n",
        "    'greet'  : 'hello'\r\n",
        "\r\n",
        "}\r\n",
        "\r\n",
        "user = dict(name='pradeep')\r\n",
        "print(user)\r\n",
        "print('basket' in dictionries)\r\n",
        "print('game' in dictionries)\r\n",
        "#print(dictionries['age']) give an error\r\n",
        "\r\n",
        "print(dictionries.get('age', 55)) # Incase no key exist in dict use this\r\n",
        "\r\n",
        "\r\n",
        "print('greet' in dictionries.keys())\r\n",
        "print(dictionries.items())\r\n",
        "# dictionries.clear()\r\n",
        "# print(dictionries)\r\n",
        "\r\n",
        "print(dictionries.pop('greet'))\r\n",
        "print(dictionries)\r\n",
        "\r\n",
        "print(dictionries.update({'basket' : 'mango'}))\r\n",
        "print(dictionries)\r\n"
      ],
      "execution_count": null,
      "outputs": [
        {
          "output_type": "stream",
          "text": [
            "{'name': 'pradeep'}\n",
            "True\n",
            "False\n",
            "55\n",
            "True\n",
            "dict_items([('basket', [1, 2, 3]), ('greet', 'hello')])\n",
            "hello\n",
            "{'basket': [1, 2, 3]}\n",
            "None\n",
            "{'basket': 'mango'}\n"
          ],
          "name": "stdout"
        }
      ]
    },
    {
      "cell_type": "markdown",
      "metadata": {
        "id": "n-5lSGPSQmtp"
      },
      "source": [
        "###Tuple - these are immutable"
      ]
    },
    {
      "cell_type": "code",
      "metadata": {
        "colab": {
          "base_uri": "https://localhost:8080/"
        },
        "id": "QxgDNfLlQsIB",
        "outputId": "377a73f9-34da-4057-8d5b-a3b7a2f05aaf"
      },
      "source": [
        "my_tuple = (1,2,3,4,5)\r\n",
        "#Dictionry key value are return in tuples because keys are immutable\r\n",
        "print(my_tuple)\r\n",
        "a,b,s,*other =(1,2,3,4,5)\r\n",
        "print(a)\r\n",
        "#Tuple has only two method \r\n",
        "#1.Count\r\n",
        "print(my_tuple.count(1))\r\n",
        "print(my_tuple.index(2))\r\n",
        "print(len(my_tuple))"
      ],
      "execution_count": null,
      "outputs": [
        {
          "output_type": "stream",
          "text": [
            "(1, 2, 3, 4, 5)\n",
            "1\n",
            "1\n",
            "1\n",
            "5\n"
          ],
          "name": "stdout"
        }
      ]
    },
    {
      "cell_type": "markdown",
      "metadata": {
        "id": "8Iq77yRwTFte"
      },
      "source": [
        "#####Sets"
      ]
    },
    {
      "cell_type": "code",
      "metadata": {
        "colab": {
          "base_uri": "https://localhost:8080/"
        },
        "id": "i-1nJp35TILO",
        "outputId": "fc7d23b4-051d-4c25-bf82-f0bd0cc7e5ea"
      },
      "source": [
        "#Sets Unorderd collection of unique objects\r\n",
        "#It does not support indexing\r\n",
        "my_set  = {1,2,3,4,5,4}\r\n",
        "my_set.add(6)\r\n",
        "print(my_set)\r\n",
        "print(len(my_set))\r\n",
        "######\r\n",
        "my_list = [1,2,3,4,5,5]\r\n",
        "print(set(my_list))\r\n",
        "\r\n",
        "\r\n",
        "#Copy\r\n",
        "new_set = my_set.copy()\r\n",
        "my_set.clear()\r\n",
        "print(new_set)\r\n",
        "print(my_set)\r\n"
      ],
      "execution_count": null,
      "outputs": [
        {
          "output_type": "stream",
          "text": [
            "{1, 2, 3, 4, 5, 6}\n",
            "6\n",
            "{1, 2, 3, 4, 5}\n",
            "{1, 2, 3, 4, 5, 6}\n",
            "set()\n"
          ],
          "name": "stdout"
        }
      ]
    },
    {
      "cell_type": "code",
      "metadata": {
        "colab": {
          "base_uri": "https://localhost:8080/"
        },
        "id": "m9UlxE80Vr6S",
        "outputId": "b92a34e9-2e41-4d26-9ec5-94cd4dcfbe8d"
      },
      "source": [
        "#Sets \r\n",
        "my_set = {1,2,3,4,5}\r\n",
        "your_set = {4,5,6,7,8,9}\r\n",
        "print(my_set.difference(your_set))\r\n",
        "# print(my_set.discard(5))\r\n",
        "print(my_set)\r\n",
        "# print(my_set.difference_update(your_set))\r\n",
        "# print(my_set)\r\n",
        "\r\n",
        "#Intersection\r\n",
        "print(my_set.intersection(your_set))\r\n",
        "print(my_set & your_set)\r\n",
        "\r\n",
        "print(my_set.isdisjoint(your_set)) #In common\r\n",
        "#Union\r\n",
        "print(my_set.union(your_set))\r\n",
        "print(my_set | your_set)\r\n",
        "\r\n",
        "print(my_set.issubset(your_set))\r\n",
        "print(my_set.issuperset(your_set))"
      ],
      "execution_count": null,
      "outputs": [
        {
          "output_type": "stream",
          "text": [
            "{1, 2, 3}\n",
            "{1, 2, 3, 4, 5}\n",
            "{4, 5}\n",
            "{4, 5}\n",
            "False\n",
            "{1, 2, 3, 4, 5, 6, 7, 8, 9}\n",
            "{1, 2, 3, 4, 5, 6, 7, 8, 9}\n",
            "False\n",
            "False\n"
          ],
          "name": "stdout"
        }
      ]
    },
    {
      "cell_type": "code",
      "metadata": {
        "id": "zdG0tM1IVpOZ"
      },
      "source": [
        ""
      ],
      "execution_count": null,
      "outputs": []
    }
  ]
}