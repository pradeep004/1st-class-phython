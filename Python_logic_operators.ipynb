{
  "nbformat": 4,
  "nbformat_minor": 0,
  "metadata": {
    "colab": {
      "name": "Python_logic_operators.ipynb",
      "provenance": [],
      "collapsed_sections": [
        "jTJLq2x6chae"
      ],
      "authorship_tag": "ABX9TyNsQPD3SufHDB4/Wfz47qRa",
      "include_colab_link": true
    },
    "kernelspec": {
      "name": "python3",
      "display_name": "Python 3"
    }
  },
  "cells": [
    {
      "cell_type": "markdown",
      "metadata": {
        "id": "view-in-github",
        "colab_type": "text"
      },
      "source": [
        "<a href=\"https://colab.research.google.com/github/pradeep004/Udemy-Python-Programming/blob/main/Python_logic_operators.ipynb\" target=\"_parent\"><img src=\"https://colab.research.google.com/assets/colab-badge.svg\" alt=\"Open In Colab\"/></a>"
      ]
    },
    {
      "cell_type": "markdown",
      "metadata": {
        "id": "jXSBOnzIBFQp"
      },
      "source": [
        "###Conditional logic#"
      ]
    },
    {
      "cell_type": "code",
      "metadata": {
        "colab": {
          "base_uri": "https://localhost:8080/"
        },
        "id": "gtZYYLJLAMib",
        "outputId": "ee6aeab7-3252-498f-f6bc-cf64ad0a65ac"
      },
      "source": [
        "#IF-ELSE condition \r\n",
        "#To find out the driver is old enough to drive\r\n",
        "\r\n",
        "is_old = False\r\n",
        "is_licenced = True\r\n",
        "\r\n",
        "if is_old:\r\n",
        "  print('you are old enough to drive')\r\n",
        "elif is_licenced:\r\n",
        "  print(\"you can drive\")\r\n",
        "else:\r\n",
        "  print(\"you are not old enogh to drive\")\r\n"
      ],
      "execution_count": null,
      "outputs": [
        {
          "output_type": "stream",
          "text": [
            "you can drive\n"
          ],
          "name": "stdout"
        }
      ]
    },
    {
      "cell_type": "code",
      "metadata": {
        "colab": {
          "base_uri": "https://localhost:8080/"
        },
        "id": "zO1SY_XNKajD",
        "outputId": "d015c0f7-93cf-4069-eb1f-84e372db724d"
      },
      "source": [
        "#boolean values \r\n",
        "#Truthy and Falsy Except these all are \"True\"\r\n",
        "##None\r\n",
        "##False\r\n",
        "#0 and 0.0 and 0j and Decimal (0) and Fraction \r\n",
        "# [] and {} and () and '' set() and range()\r\n",
        "\r\n",
        "password  = '123'\r\n",
        "username = 'pradeep'\r\n",
        "\r\n",
        "if password and username:\r\n",
        "  print(\"you\\'ve entered correct password\")\r\n",
        "\r\n",
        "else:\r\n",
        "  print(\"Wrong password .!\")\r\n"
      ],
      "execution_count": null,
      "outputs": [
        {
          "output_type": "stream",
          "text": [
            "you've entered correct password\n"
          ],
          "name": "stdout"
        }
      ]
    },
    {
      "cell_type": "markdown",
      "metadata": {
        "id": "dxbToaidL9Gv"
      },
      "source": [
        ""
      ]
    },
    {
      "cell_type": "code",
      "metadata": {
        "colab": {
          "base_uri": "https://localhost:8080/"
        },
        "id": "fJdzGoPzLMok",
        "outputId": "36c562d2-5901-4fe8-bd83-1d8d6c73b906"
      },
      "source": [
        "#Ternary Operator or Conddition Expression\r\n",
        "\r\n",
        "#condition_if_true if condition else condition_if_ese\r\n",
        "\r\n",
        "is_friend = False\r\n",
        "\r\n",
        "can_message = \"message allowed\" if is_friend else \"not allowed to message\"\r\n",
        "print(can_message)"
      ],
      "execution_count": null,
      "outputs": [
        {
          "output_type": "stream",
          "text": [
            "not allowed to message\n"
          ],
          "name": "stdout"
        }
      ]
    },
    {
      "cell_type": "markdown",
      "metadata": {
        "id": "jTJLq2x6chae"
      },
      "source": [
        "#####short Circuiting "
      ]
    },
    {
      "cell_type": "code",
      "metadata": {
        "id": "I4PMaeLHcoG8"
      },
      "source": [
        "#While using \"OR\" and \"AND\" operators\r\n",
        "is_Friend = True \r\n",
        "is_User = True\r\n",
        "if is_Friend and is_User:\r\n",
        "  print(\"Best Friend \")"
      ],
      "execution_count": null,
      "outputs": []
    },
    {
      "cell_type": "markdown",
      "metadata": {
        "id": "d_rRlHGldt8i"
      },
      "source": [
        "#####Logical Operator - <,>,==,/,*,-,+"
      ]
    },
    {
      "cell_type": "code",
      "metadata": {
        "colab": {
          "base_uri": "https://localhost:8080/"
        },
        "id": "MyiFx5Ojdxno",
        "outputId": "3f0eaad3-26a5-4177-da38-88344f4a3b63"
      },
      "source": [
        "# < and > will convert string to integer\r\n",
        "# 'a' is 97 decimal\r\n",
        "# 'b' is 98 decimal\r\n",
        "print('a' > 'b')\r\n",
        "\r\n",
        "# 'not' negates the values\r\n",
        "print(not(True))"
      ],
      "execution_count": null,
      "outputs": [
        {
          "output_type": "stream",
          "text": [
            "False\n",
            "False\n"
          ],
          "name": "stdout"
        }
      ]
    },
    {
      "cell_type": "markdown",
      "metadata": {
        "id": "weV6d9mmfKYB"
      },
      "source": [
        ""
      ]
    },
    {
      "cell_type": "code",
      "metadata": {
        "colab": {
          "base_uri": "https://localhost:8080/"
        },
        "id": "EuU-_hCofUOw",
        "outputId": "fb955fda-1873-4a67-a2d5-ae6f29d3af62"
      },
      "source": [
        "is_magician = True\r\n",
        "is_expert = False\r\n",
        "\r\n",
        "if is_magician and is_expert:\r\n",
        "  print(\"You\\'re a master magician \")\r\n",
        "\r\n",
        "elif is_magician and not is_expert:\r\n",
        "  print(\"at least you\\'re goetting there\")\r\n",
        "\r\n",
        "else:\r\n",
        "  print(\"you\\'re not magician\")"
      ],
      "execution_count": null,
      "outputs": [
        {
          "output_type": "stream",
          "text": [
            "at least you're goetting there\n"
          ],
          "name": "stdout"
        }
      ]
    },
    {
      "cell_type": "markdown",
      "metadata": {
        "id": "Y2bqwtQFhS4z"
      },
      "source": [
        "####Loops - allows us to run lines of code over and over\r\n",
        "#####Python has two primitive loops \r\n",
        "\r\n",
        "##### 1).Forloop -iterable\r\n",
        "##### 2).While loop "
      ]
    },
    {
      "cell_type": "code",
      "metadata": {
        "colab": {
          "base_uri": "https://localhost:8080/"
        },
        "id": "T3bprkg6hj-O",
        "outputId": "dc149da0-269c-4793-d9cb-1a39f663b325"
      },
      "source": [
        "for item in {1,2,3,4,5}:\r\n",
        "  print(item)"
      ],
      "execution_count": null,
      "outputs": [
        {
          "output_type": "stream",
          "text": [
            "1\n",
            "2\n",
            "3\n",
            "4\n",
            "5\n"
          ],
          "name": "stdout"
        }
      ]
    },
    {
      "cell_type": "code",
      "metadata": {
        "colab": {
          "base_uri": "https://localhost:8080/"
        },
        "id": "b_sHw--BhW1P",
        "outputId": "f818ab1e-bc03-4297-ed9b-60138bc0466f"
      },
      "source": [
        "for item in [1,2,3]:\r\n",
        "  for x in ['a','b']:\r\n",
        "    print(item,x)"
      ],
      "execution_count": null,
      "outputs": [
        {
          "output_type": "stream",
          "text": [
            "1 a\n",
            "1 b\n",
            "2 a\n",
            "2 b\n",
            "3 a\n",
            "3 b\n"
          ],
          "name": "stdout"
        }
      ]
    },
    {
      "cell_type": "code",
      "metadata": {
        "colab": {
          "base_uri": "https://localhost:8080/"
        },
        "id": "VFUMeHKLjJcj",
        "outputId": "a1144451-9721-4a1d-9b5d-af2e43faf4f2"
      },
      "source": [
        "#iterable - list, dictionary, tuple,set,string\r\n",
        "#iterate - one by one check\r\n",
        "\r\n",
        "user = {\r\n",
        "    'name' : 'pradeep',\r\n",
        "    'school' : 'DBS',\r\n",
        "    'salary' : 3000\r\n",
        "}\r\n",
        "\r\n",
        "for items in user:\r\n",
        "  print(items)\r\n",
        "\r\n",
        "#print the both key and values in seperate \r\n",
        "# for key, values in user.items():\r\n",
        "#   print(key, values)\r\n",
        "\r\n",
        "for items in user.items():\r\n",
        "  print(items)\r\n",
        "\r\n",
        "for items in user.keys():\r\n",
        "  print(items)\r\n",
        "\r\n",
        "for items in user.values():\r\n",
        "  print(items)"
      ],
      "execution_count": null,
      "outputs": [
        {
          "output_type": "stream",
          "text": [
            "name\n",
            "school\n",
            "salary\n",
            "name pradeep\n",
            "school DBS\n",
            "salary 3000\n",
            "('name', 'pradeep')\n",
            "('school', 'DBS')\n",
            "('salary', 3000)\n",
            "name\n",
            "school\n",
            "salary\n",
            "pradeep\n",
            "DBS\n",
            "3000\n"
          ],
          "name": "stdout"
        }
      ]
    },
    {
      "cell_type": "markdown",
      "metadata": {
        "id": "wPIto5sXlfLr"
      },
      "source": [
        "######Counter"
      ]
    },
    {
      "cell_type": "code",
      "metadata": {
        "colab": {
          "base_uri": "https://localhost:8080/"
        },
        "id": "x_Yqr1OFlhcn",
        "outputId": "a78bb1bd-7853-4f09-efd2-63e302d86feb"
      },
      "source": [
        "#counter\r\n",
        " #Create List\r\n",
        "my_list = [1,2,3,4,5,6,7,8,9]\r\n",
        "\r\n",
        "#assign initial variable\r\n",
        "counter = 0\r\n",
        "\r\n",
        "#using for loop\r\n",
        "for item in my_list:\r\n",
        "  counter = counter + item\r\n",
        "\r\n",
        "print(counter)"
      ],
      "execution_count": null,
      "outputs": [
        {
          "output_type": "stream",
          "text": [
            "45\n"
          ],
          "name": "stdout"
        }
      ]
    },
    {
      "cell_type": "code",
      "metadata": {
        "colab": {
          "base_uri": "https://localhost:8080/"
        },
        "id": "G0mi0ILHmofE",
        "outputId": "5ccd09c4-eb50-455c-a506-7f9ff3b6af0f"
      },
      "source": [
        "#Range (start, stop,stepover)\r\n",
        "\r\n",
        "for item in range(2):\r\n",
        "  print(tuple(range(10)))"
      ],
      "execution_count": null,
      "outputs": [
        {
          "output_type": "stream",
          "text": [
            "(0, 1, 2, 3, 4, 5, 6, 7, 8, 9)\n",
            "(0, 1, 2, 3, 4, 5, 6, 7, 8, 9)\n"
          ],
          "name": "stdout"
        }
      ]
    },
    {
      "cell_type": "markdown",
      "metadata": {
        "id": "ZbFQo_6zA_Zk"
      },
      "source": [
        "#####Enumaration - used for indexing "
      ]
    },
    {
      "cell_type": "code",
      "metadata": {
        "colab": {
          "base_uri": "https://localhost:8080/"
        },
        "id": "WTEqvZGXo7qO",
        "outputId": "69fe240b-a938-44d4-e589-282e8aae2f12"
      },
      "source": [
        "#Enumarate - used for indexing \r\n",
        "#'int' object is not iterable\r\n",
        "#\r\n",
        "for i,val in enumerate([1,2,3]):\r\n",
        "  print(\" {} is index of {}\".format(i,val))\r\n",
        "\r\n",
        "\r\n",
        "#Finding the perticular number with indexed\r\n",
        "for i,val in enumerate(list(range(1,100))):\r\n",
        "  if val == 50:\r\n",
        "    print(\"{} is indexed as {}\".format(val,i))"
      ],
      "execution_count": null,
      "outputs": [
        {
          "output_type": "stream",
          "text": [
            " 0 is index of 1\n",
            " 1 is index of 2\n",
            " 2 is index of 3\n",
            "50 is indexed as 49\n"
          ],
          "name": "stdout"
        }
      ]
    },
    {
      "cell_type": "markdown",
      "metadata": {
        "id": "Yi-dsXJLgjVx"
      },
      "source": [
        "####2).While loop - we can execute statement as long as condition is true\r\n",
        "\r\n"
      ]
    },
    {
      "cell_type": "code",
      "metadata": {
        "colab": {
          "base_uri": "https://localhost:8080/"
        },
        "id": "gL8azV_1g6Jh",
        "outputId": "5707a619-47f7-4ff1-a1a4-6a52e64f68f4"
      },
      "source": [
        "#WHILE LOOP\r\n",
        "i = 0\r\n",
        "while i < 50:\r\n",
        "  print(i)\r\n",
        "  break  #Break is used to break the condition if it's even true \r\n",
        "\r\n",
        "my_list = [1,2,3,5]\r\n",
        "while i < len(my_list):\r\n",
        "  print(my_list[i])\r\n",
        "  i += 1\r\n",
        "\r\n",
        "\r\n",
        "while True:\r\n",
        "  r =input('hey..')\r\n",
        "  if r == 'bye':\r\n",
        "    break\r\n"
      ],
      "execution_count": null,
      "outputs": [
        {
          "output_type": "stream",
          "text": [
            "0\n",
            "1\n",
            "2\n",
            "3\n",
            "5\n",
            "hey..pradeep\n",
            "hey..bye\n"
          ],
          "name": "stdout"
        }
      ]
    },
    {
      "cell_type": "markdown",
      "metadata": {
        "id": "hPdBxViVqQLQ"
      },
      "source": [
        "#####1). Break\r\n",
        "#####2).Continue\r\n",
        "#####3. Pass\r\n"
      ]
    },
    {
      "cell_type": "code",
      "metadata": {
        "colab": {
          "base_uri": "https://localhost:8080/"
        },
        "id": "K-4MDpTqqcDJ",
        "outputId": "a157bd43-7e77-40c4-f3b5-9e7f8a4cb4af"
      },
      "source": [
        "#Break -  statement terminate the current loop and resumes the next statement\r\n",
        "for i in 'Python':\r\n",
        "  print(i)\r\n",
        "  break\r\n",
        "\r\n",
        "for letter in 'python':\r\n",
        "  if letter == 'h':\r\n",
        "    break         #breaks when letter assighed to value 'h'\r\n",
        "  print(\"Currrent letters are : {} \".format(letter))\r\n",
        "\r\n",
        "\r\n",
        "print(\"\\nThis is break statement \\nGoodbye...!\")\r\n",
        "\r\n"
      ],
      "execution_count": null,
      "outputs": [
        {
          "output_type": "stream",
          "text": [
            "P\n",
            "Currrent letters are : p \n",
            "Currrent letters are : y \n",
            "Currrent letters are : t \n",
            "\n",
            "This is break statement \n",
            "Goodbye...!\n"
          ],
          "name": "stdout"
        }
      ]
    },
    {
      "cell_type": "code",
      "metadata": {
        "colab": {
          "base_uri": "https://localhost:8080/"
        },
        "id": "iwpVKja8rKC2",
        "outputId": "9f0a3dd3-ea61-4e4f-fd50-21bfe5db0019"
      },
      "source": [
        "#Continue -returns control to the begining of the loop \r\n",
        "\r\n",
        "for letter in 'python':\r\n",
        "  if letter == 'h':\r\n",
        "    continue\r\n",
        "  print(letter)\r\n",
        "\r\n",
        "\r\n",
        "#Pass - It is an null operation, nothing happens when it executes\r\n",
        "for letter in 'Python': \r\n",
        "   if letter == 'h':\r\n",
        "      pass\r\n",
        "      print('This is pass block')\r\n",
        "   print ('Current Letter :', letter)\r\n",
        "\r\n",
        "print( \"Good bye!\")"
      ],
      "execution_count": null,
      "outputs": [
        {
          "output_type": "stream",
          "text": [
            "p\n",
            "y\n",
            "t\n",
            "o\n",
            "n\n",
            "Current Letter : P\n",
            "Current Letter : y\n",
            "Current Letter : t\n",
            "This is pass block\n",
            "Current Letter : h\n",
            "Current Letter : o\n",
            "Current Letter : n\n",
            "Good bye!\n"
          ],
          "name": "stdout"
        }
      ]
    },
    {
      "cell_type": "markdown",
      "metadata": {
        "id": "o_7wKH5SxBsd"
      },
      "source": [
        ""
      ]
    }
  ]
}