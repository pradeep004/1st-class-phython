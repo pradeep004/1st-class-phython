{
  "nbformat": 4,
  "nbformat_minor": 0,
  "metadata": {
    "colab": {
      "name": "Python_File_I/O.ipynb",
      "provenance": [],
      "collapsed_sections": [],
      "authorship_tag": "ABX9TyMWyZJgcWGCrIm4leP3TjN6",
      "include_colab_link": true
    },
    "kernelspec": {
      "name": "python3",
      "display_name": "Python 3"
    },
    "language_info": {
      "name": "python"
    }
  },
  "cells": [
    {
      "cell_type": "markdown",
      "metadata": {
        "id": "view-in-github",
        "colab_type": "text"
      },
      "source": [
        "<a href=\"https://colab.research.google.com/github/pradeep004/Udemy-Python-Programming/blob/main/Python_File_I_O.ipynb\" target=\"_parent\"><img src=\"https://colab.research.google.com/assets/colab-badge.svg\" alt=\"Open In Colab\"/></a>"
      ]
    },
    {
      "cell_type": "code",
      "metadata": {
        "id": "bL9mHatJyta0"
      },
      "source": [
        " #Files - perment way  to store the data\n",
        "\n",
        " #Operation\n",
        " #Open a file \n",
        " #Read or write \n",
        " #close a file\n",
        " \n",
        "\n",
        " #1).Opening a file\n",
        " f = open ('example.txt','r')\n",
        "\n",
        " #A File can be opened in differnet modes\n",
        " #r - open file for reading (default)\n",
        " #w - Open a file for writing .Create a new if afile does not exists\n",
        " #x - Open a file excluive mode\n",
        " #a - appending text to a existing file at the end of the file \n",
        " #t - Open in text mode used to store text \n",
        " #b - Open in binary mode\n",
        "\n",
        "\n",
        "\n",
        "#2)Close a file\n",
        "f = open('example.txt')\n",
        "f.close()\n",
        "\n",
        "#Safer way to store the file\n",
        "try :\n",
        "  f = open(\"example.txt\")\n",
        "  #Perform the file operation\n",
        "finally:\n",
        "  f.close()\n",
        "\n",
        "\n"
      ],
      "execution_count": null,
      "outputs": []
    },
    {
      "cell_type": "code",
      "metadata": {
        "id": "AK_b1Dbs3g2e"
      },
      "source": [
        "#We can choose the encoding while creating the file \n",
        "#Writing or creating the file using the write mode\n",
        "f = open('text.txt','w')\n",
        "f.write(\"This is a first file,\\n\")\n",
        "f.write(\"this is a second line\")\n",
        "f.close()"
      ],
      "execution_count": 14,
      "outputs": []
    },
    {
      "cell_type": "code",
      "metadata": {
        "id": "x2KbQGYm3tUr",
        "colab": {
          "base_uri": "https://localhost:8080/",
          "height": 34
        },
        "outputId": "48f4dc0a-96fa-4576-8be3-cfb01a531f63"
      },
      "source": [
        "#Reading the file\n",
        "f = open(\"text.txt\",'r')\n",
        "f.read()\n",
        "\n"
      ],
      "execution_count": 18,
      "outputs": [
        {
          "output_type": "execute_result",
          "data": {
            "application/vnd.google.colaboratory.intrinsic+json": {
              "type": "string"
            },
            "text/plain": [
              "'This is a first file,\\nthis is a second line'"
            ]
          },
          "metadata": {
            "tags": []
          },
          "execution_count": 18
        }
      ]
    },
    {
      "cell_type": "code",
      "metadata": {
        "id": "XWPDW7dh3-LW",
        "colab": {
          "base_uri": "https://localhost:8080/",
          "height": 34
        },
        "outputId": "f94e3eeb-d6a4-4c9a-b0f7-359a8fd94f32"
      },
      "source": [
        "#To read the subsection of the file \n",
        "f = open('text.txt')\n",
        "f.read(4)\n",
        "\n",
        "#again reading- start from where the curser left of in last time \n",
        "f.read(10)\n"
      ],
      "execution_count": 11,
      "outputs": [
        {
          "output_type": "execute_result",
          "data": {
            "application/vnd.google.colaboratory.intrinsic+json": {
              "type": "string"
            },
            "text/plain": [
              "' is a firs'"
            ]
          },
          "metadata": {
            "tags": []
          },
          "execution_count": 11
        }
      ]
    },
    {
      "cell_type": "code",
      "metadata": {
        "colab": {
          "base_uri": "https://localhost:8080/"
        },
        "id": "r7-X8YKCT1I3",
        "outputId": "f99a57c2-567c-4a17-ab84-49c9d5484cb0"
      },
      "source": [
        "#tell - tells the pointer(curser) location \n",
        "f.tell()"
      ],
      "execution_count": 12,
      "outputs": [
        {
          "output_type": "execute_result",
          "data": {
            "text/plain": [
              "14"
            ]
          },
          "metadata": {
            "tags": []
          },
          "execution_count": 12
        }
      ]
    },
    {
      "cell_type": "code",
      "metadata": {
        "colab": {
          "base_uri": "https://localhost:8080/"
        },
        "id": "uoWkl6CucppV",
        "outputId": "6d804ac5-f1bc-4b2f-da97-4c007ddf9050"
      },
      "source": [
        "#seek - will pull the curser to start\n",
        "f.seek(0) # Brings tp the given position\n",
        " "
      ],
      "execution_count": 13,
      "outputs": [
        {
          "output_type": "execute_result",
          "data": {
            "text/plain": [
              "0"
            ]
          },
          "metadata": {
            "tags": []
          },
          "execution_count": 13
        }
      ]
    },
    {
      "cell_type": "code",
      "metadata": {
        "colab": {
          "base_uri": "https://localhost:8080/"
        },
        "id": "CAWUUZJEcoex",
        "outputId": "482f9166-43ef-42fb-f814-dd08f1ad78f4"
      },
      "source": [
        "#printing the lines  \n",
        "print(f.read())\n",
        "f.seek(0)\n",
        "for line in f:\n",
        "  print(line)"
      ],
      "execution_count": 19,
      "outputs": [
        {
          "output_type": "stream",
          "text": [
            "\n",
            "This is a first file,\n",
            "\n",
            "this is a second line\n"
          ],
          "name": "stdout"
        }
      ]
    },
    {
      "cell_type": "code",
      "metadata": {
        "colab": {
          "base_uri": "https://localhost:8080/",
          "height": 34
        },
        "id": "kRLG5kbEdqMj",
        "outputId": "38495155-2ded-4f39-c4d7-be685f893de8"
      },
      "source": [
        "#Reads the first line \n",
        "f = open('text.txt','r')\n",
        "f.readline()\n",
        "\n"
      ],
      "execution_count": 23,
      "outputs": [
        {
          "output_type": "execute_result",
          "data": {
            "application/vnd.google.colaboratory.intrinsic+json": {
              "type": "string"
            },
            "text/plain": [
              "'This is a first file,\\n'"
            ]
          },
          "metadata": {
            "tags": []
          },
          "execution_count": 23
        }
      ]
    },
    {
      "cell_type": "code",
      "metadata": {
        "colab": {
          "base_uri": "https://localhost:8080/",
          "height": 34
        },
        "id": "4vWvrgDXeHhx",
        "outputId": "b35b4543-68b2-4d89-a053-3a073333c47c"
      },
      "source": [
        "# Caling the econd time   \n",
        "f.readline()"
      ],
      "execution_count": 24,
      "outputs": [
        {
          "output_type": "execute_result",
          "data": {
            "application/vnd.google.colaboratory.intrinsic+json": {
              "type": "string"
            },
            "text/plain": [
              "'this is a second line'"
            ]
          },
          "metadata": {
            "tags": []
          },
          "execution_count": 24
        }
      ]
    },
    {
      "cell_type": "code",
      "metadata": {
        "colab": {
          "base_uri": "https://localhost:8080/",
          "height": 34
        },
        "id": "rqptwD8MeOaz",
        "outputId": "4e2469b9-8e0d-4854-d804-170805f82512"
      },
      "source": [
        "f.readline()"
      ],
      "execution_count": 25,
      "outputs": [
        {
          "output_type": "execute_result",
          "data": {
            "application/vnd.google.colaboratory.intrinsic+json": {
              "type": "string"
            },
            "text/plain": [
              "''"
            ]
          },
          "metadata": {
            "tags": []
          },
          "execution_count": 25
        }
      ]
    },
    {
      "cell_type": "code",
      "metadata": {
        "colab": {
          "base_uri": "https://localhost:8080/"
        },
        "id": "BK32VUBseXPW",
        "outputId": "9990775c-a2df-47a1-80c5-36840326c2ef"
      },
      "source": [
        "#reading the all lines \n",
        "f.readlines()"
      ],
      "execution_count": 26,
      "outputs": [
        {
          "output_type": "execute_result",
          "data": {
            "text/plain": [
              "[]"
            ]
          },
          "metadata": {
            "tags": []
          },
          "execution_count": 26
        }
      ]
    },
    {
      "cell_type": "code",
      "metadata": {
        "id": "ZG_X6sjJeXMa"
      },
      "source": [
        "#Renaming and deleting the file \n",
        "#Operating system related tool are in module OS\n",
        "import os\n",
        "\n",
        "#Renaming the file\n",
        "os.rename('text.txt','sample.txt')"
      ],
      "execution_count": 28,
      "outputs": []
    },
    {
      "cell_type": "code",
      "metadata": {
        "colab": {
          "base_uri": "https://localhost:8080/",
          "height": 34
        },
        "id": "t8Rul_zJeWpW",
        "outputId": "781a51ae-1fe9-47af-8662-137b95d83b54"
      },
      "source": [
        "f = open('sample.txt')\n",
        "f.readline()"
      ],
      "execution_count": 30,
      "outputs": [
        {
          "output_type": "execute_result",
          "data": {
            "application/vnd.google.colaboratory.intrinsic+json": {
              "type": "string"
            },
            "text/plain": [
              "'This is a first file,\\n'"
            ]
          },
          "metadata": {
            "tags": []
          },
          "execution_count": 30
        }
      ]
    },
    {
      "cell_type": "code",
      "metadata": {
        "id": "V3620IrbfGne"
      },
      "source": [
        "#Delete the file \n",
        "os.remove('sample.txt')"
      ],
      "execution_count": 31,
      "outputs": []
    },
    {
      "cell_type": "code",
      "metadata": {
        "colab": {
          "base_uri": "https://localhost:8080/",
          "height": 34
        },
        "id": "wFCZRofsfaIP",
        "outputId": "5b34998a-2efb-4125-ce93-5990fe864fa6"
      },
      "source": [
        "import os\n",
        "os.getcwd()"
      ],
      "execution_count": 32,
      "outputs": [
        {
          "output_type": "execute_result",
          "data": {
            "application/vnd.google.colaboratory.intrinsic+json": {
              "type": "string"
            },
            "text/plain": [
              "'/content'"
            ]
          },
          "metadata": {
            "tags": []
          },
          "execution_count": 32
        }
      ]
    },
    {
      "cell_type": "code",
      "metadata": {
        "id": "K4ZREvZdfqO9"
      },
      "source": [
        "# to change the directory\n",
        "os.chdir(--)\n"
      ],
      "execution_count": null,
      "outputs": []
    },
    {
      "cell_type": "code",
      "metadata": {
        "colab": {
          "base_uri": "https://localhost:8080/"
        },
        "id": "5DfyCESsf64w",
        "outputId": "7cb42e8b-1df4-4691-cd98-8aab1c3d5d52"
      },
      "source": [
        "#listing the directories in a folders\n",
        "os.listdir(os.getcwd())"
      ],
      "execution_count": 35,
      "outputs": [
        {
          "output_type": "execute_result",
          "data": {
            "text/plain": [
              "['.config', 'gmae', 'sample_data']"
            ]
          },
          "metadata": {
            "tags": []
          },
          "execution_count": 35
        }
      ]
    },
    {
      "cell_type": "code",
      "metadata": {
        "id": "wg937IpugJIQ"
      },
      "source": [
        "#Create a new directories\n",
        "os.mkdir('game')"
      ],
      "execution_count": 34,
      "outputs": []
    },
    {
      "cell_type": "code",
      "metadata": {
        "id": "VP6EtKpFgYBb"
      },
      "source": [
        "#Deleting the directories with no sub directories or empty file\n",
        "os.rmdir('game')"
      ],
      "execution_count": 36,
      "outputs": []
    },
    {
      "cell_type": "code",
      "metadata": {
        "id": "ETfxvVWSgqvB"
      },
      "source": [
        "#remove the directory which isnot empty \n"
      ],
      "execution_count": null,
      "outputs": []
    },
    {
      "cell_type": "code",
      "metadata": {
        "id": "RIkDpcWXUF06"
      },
      "source": [
        "from translate import Translator  \n",
        "try:\n",
        "  with open('test.txt',mode='w') as my_file:\n",
        "    #text =my_file.read()\n",
        "    \n",
        "#transation = Translator.translate(\"my name is pradeep\")\n",
        "except FileNotFoundError as err:\n",
        "   print('file not found')"
      ],
      "execution_count": null,
      "outputs": []
    }
  ]
}