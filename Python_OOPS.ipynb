{
  "nbformat": 4,
  "nbformat_minor": 0,
  "metadata": {
    "colab": {
      "name": "Python_OOPS.ipynb",
      "provenance": [],
      "authorship_tag": "ABX9TyM6+TJvTlBFXdP914dnltoQ",
      "include_colab_link": true
    },
    "kernelspec": {
      "name": "python3",
      "display_name": "Python 3"
    }
  },
  "cells": [
    {
      "cell_type": "markdown",
      "metadata": {
        "id": "view-in-github",
        "colab_type": "text"
      },
      "source": [
        "<a href=\"https://colab.research.google.com/github/pradeep004/Udemy-Python-Programming/blob/main/Python_OOPS.ipynb\" target=\"_parent\"><img src=\"https://colab.research.google.com/assets/colab-badge.svg\" alt=\"Open In Colab\"/></a>"
      ]
    },
    {
      "cell_type": "markdown",
      "metadata": {
        "id": "tjTLt44qMOaE"
      },
      "source": [
        "####OOPS - Object oriented program\r\n",
        "\r\n",
        "#### class - uses camel_case letters\r\n",
        "#####1).Encapsulation\r\n",
        "#####2).Abstaction\r\n",
        "#####3). Innheritance\r\n",
        "#####4).Polymorphism"
      ]
    },
    {
      "cell_type": "code",
      "metadata": {
        "id": "QhrHoD_7KYf1"
      },
      "source": [
        "class BigObject: #Create a new class\r\n",
        "  pass\r\n",
        "\r\n",
        "obj1 = BIgObject() #Class instanciate\r\n",
        "obj2 = BIgObject() #Class instanciate\r\n",
        "obj3 = BIgObject() #Class instanciate\r\n"
      ],
      "execution_count": null,
      "outputs": []
    },
    {
      "cell_type": "code",
      "metadata": {
        "colab": {
          "base_uri": "https://localhost:8080/"
        },
        "id": "CpV6h7VFOKKp",
        "outputId": "6e7b9c07-85fc-4203-dd7c-cc704e659d06"
      },
      "source": [
        "class PlayerCharecters: \r\n",
        "  membership = True #Class object attribute   Static  \r\n",
        "  def __init__(self, name): #Constructor method Dynamic\r\n",
        "    self.name = name\r\n",
        "\r\n",
        "  def run(self):\r\n",
        "    print('run')\r\n",
        "    return 20\r\n",
        "  \r\n",
        "  @classmethod\r\n",
        "  def adding_things(cls,num1,num2):\r\n",
        "    return cls('Teddy',num1 + num2)\r\n",
        "    \r\n",
        "\r\n",
        "player1 = PlayerCharecters('Cindy')\r\n",
        "player2 = PlayerCharecters('Pradeep')\r\n",
        "\r\n",
        "print(player1.name)\r\n",
        "print(player2.name)\r\n",
        "print(player1.membership)\r\n",
        "print(player1.run())"
      ],
      "execution_count": null,
      "outputs": [
        {
          "output_type": "stream",
          "text": [
            "Cindy\n",
            "Pradeep\n",
            "True\n",
            "run\n",
            "20\n"
          ],
          "name": "stdout"
        }
      ]
    },
    {
      "cell_type": "code",
      "metadata": {
        "colab": {
          "base_uri": "https://localhost:8080/"
        },
        "id": "hvCxzx9jUPfc",
        "outputId": "189b50e4-aa87-444e-c5b2-749606bffa41"
      },
      "source": [
        "#Priavte \r\n",
        "class Cat:\r\n",
        "  def __init__(self,name,age):  #Dunder Methods - cannot be modified \r\n",
        "    #private variable cannotbe modified \r\n",
        "    self._name = name\r\n",
        "    self._age = age\r\n",
        "\r\n",
        "  def oldest(self,*args):\r\n",
        "    return max(args)\r\n",
        "    \r\n",
        "cat1 = Cat('Tommy',10)\r\n",
        "cat2 = Cat('Mysti',12)\r\n",
        "cat3 = Cat(\"Jimmy\",14)\r\n",
        "\r\n",
        "print(\"The name of cat1 is {}\".format(cat1._name))\r\n",
        "print(\"The name of cat2 is {}\".format(cat2._name))\r\n",
        "print(\"\\n\")\r\n",
        "print(\"the age of cat1 is {}\".format(cat1._age))\r\n",
        "print(\"The age of cat2 is {}\".format(cat2.age))\r\n",
        "\r\n",
        "print(\"The oldest cat is {}\".format(oldest(cat1._age,cat2._age,cat3._age)),\"years old\")"
      ],
      "execution_count": null,
      "outputs": [
        {
          "output_type": "stream",
          "text": [
            "The name of cat1 is Tommy\n",
            "The name of cat2 is Mysti\n",
            "\n",
            "\n",
            "the age of cat1 is 10\n",
            "The age of cat2 is 12\n",
            "The oldest cat is 14 years old\n"
          ],
          "name": "stdout"
        }
      ]
    },
    {
      "cell_type": "code",
      "metadata": {
        "id": "bAI2GEPUOPJ4",
        "colab": {
          "base_uri": "https://localhost:8080/"
        },
        "outputId": "498b6e65-b516-4de3-e150-5db34eb80bc1"
      },
      "source": [
        "#Inheritance\r\n",
        "class User: #ParentClass\r\n",
        "  def sign_in(self):\r\n",
        "    print(\"Logged In\")\r\n",
        "  \r\n",
        "class Wizard(User): #Subclasses\r\n",
        "  def __init__(self,name,power):\r\n",
        "    self.name = name\r\n",
        "    self.power = power\r\n",
        "  \r\n",
        "  def attack(self):#Subclasses\r\n",
        "    print(\"The attack power: {}\".format(self.power))\r\n",
        "\r\n",
        "class Archers(User):\r\n",
        "  def __init__(self,name,archer):\r\n",
        "    self.name = name \r\n",
        "    self.archer = archer\r\n",
        "  \r\n",
        "  def attack(self):\r\n",
        "    print(\"the arrows are : {}\".format(self.archer))\r\n",
        "\r\n",
        "\r\n",
        "wizard1 = Wizard('Prdep',50)\r\n",
        "archer1 = Archers('googly','40')\r\n",
        "\r\n",
        "print(wizard1.attack())\r\n",
        "print(archer1.attack())\r\n",
        "\r\n",
        "print(isinstance(wizard1,User))\r\n"
      ],
      "execution_count": 9,
      "outputs": [
        {
          "output_type": "stream",
          "text": [
            "The attack power: 50\n",
            "None\n",
            "the arrows are : 40\n",
            "None\n",
            "True\n"
          ],
          "name": "stdout"
        }
      ]
    },
    {
      "cell_type": "code",
      "metadata": {
        "id": "rl5yohDT9pf4"
      },
      "source": [
        "#Polymorphism\r\n"
      ],
      "execution_count": null,
      "outputs": []
    }
  ]
}