{
  "nbformat": 4,
  "nbformat_minor": 0,
  "metadata": {
    "colab": {
      "name": "Python_OOPS.ipynb",
      "provenance": [],
      "authorship_tag": "ABX9TyNMHsxCXswrHV4w1crc5xqt",
      "include_colab_link": true
    },
    "kernelspec": {
      "name": "python3",
      "display_name": "Python 3"
    }
  },
  "cells": [
    {
      "cell_type": "markdown",
      "metadata": {
        "id": "view-in-github",
        "colab_type": "text"
      },
      "source": [
        "<a href=\"https://colab.research.google.com/github/pradeep004/Udemy-Python-Programming/blob/main/Python_OOPS.ipynb\" target=\"_parent\"><img src=\"https://colab.research.google.com/assets/colab-badge.svg\" alt=\"Open In Colab\"/></a>"
      ]
    },
    {
      "cell_type": "markdown",
      "metadata": {
        "id": "tjTLt44qMOaE"
      },
      "source": [
        "####OOPS - Object oriented program\r\n",
        "\r\n",
        "#### class - uses camel_case letters\r\n",
        "#####1).Encapsulation\r\n",
        "#####2).Abstaction\r\n",
        "#####3). Innheritance\r\n",
        "#####4).Polymorphism"
      ]
    },
    {
      "cell_type": "code",
      "metadata": {
        "id": "QhrHoD_7KYf1"
      },
      "source": [
        "class BigObject: #Create a new class\r\n",
        "  pass\r\n",
        "\r\n",
        "obj1 = BIgObject() #Class instanciate\r\n",
        "obj2 = BIgObject() #Class instanciate\r\n",
        "obj3 = BIgObject() #Class instanciate\r\n"
      ],
      "execution_count": null,
      "outputs": []
    },
    {
      "cell_type": "code",
      "metadata": {
        "colab": {
          "base_uri": "https://localhost:8080/"
        },
        "id": "CpV6h7VFOKKp",
        "outputId": "6e7b9c07-85fc-4203-dd7c-cc704e659d06"
      },
      "source": [
        "class PlayerCharecters: \r\n",
        "  membership = True #Class object attribute   Static  \r\n",
        "  def __init__(self, name): #Constructor method Dynamic\r\n",
        "    self.name = name\r\n",
        "\r\n",
        "  def run(self):\r\n",
        "    print('run')\r\n",
        "    return 20\r\n",
        "  \r\n",
        "  @classmethod\r\n",
        "  def adding_things(cls,num1,num2):\r\n",
        "    return cls('Teddy',num1 + num2)\r\n",
        "    \r\n",
        "\r\n",
        "player1 = PlayerCharecters('Cindy')\r\n",
        "player2 = PlayerCharecters('Pradeep')\r\n",
        "\r\n",
        "print(player1.name)\r\n",
        "print(player2.name)\r\n",
        "print(player1.membership)\r\n",
        "print(player1.run())"
      ],
      "execution_count": null,
      "outputs": [
        {
          "output_type": "stream",
          "text": [
            "Cindy\n",
            "Pradeep\n",
            "True\n",
            "run\n",
            "20\n"
          ],
          "name": "stdout"
        }
      ]
    },
    {
      "cell_type": "code",
      "metadata": {
        "colab": {
          "base_uri": "https://localhost:8080/"
        },
        "id": "hvCxzx9jUPfc",
        "outputId": "189b50e4-aa87-444e-c5b2-749606bffa41"
      },
      "source": [
        "#Priavte \r\n",
        "class Cat:\r\n",
        "  def __init__(self,name,age):  #Dunder Methods - cannot be modified \r\n",
        "    #private variable cannotbe modified \r\n",
        "    self._name = name\r\n",
        "    self._age = age\r\n",
        "\r\n",
        "  def oldest(self,*args):\r\n",
        "    return max(args)\r\n",
        "    \r\n",
        "cat1 = Cat('Tommy',10)\r\n",
        "cat2 = Cat('Mysti',12)\r\n",
        "cat3 = Cat(\"Jimmy\",14)\r\n",
        "\r\n",
        "print(\"The name of cat1 is {}\".format(cat1._name))\r\n",
        "print(\"The name of cat2 is {}\".format(cat2._name))\r\n",
        "print(\"\\n\")\r\n",
        "print(\"the age of cat1 is {}\".format(cat1._age))\r\n",
        "print(\"The age of cat2 is {}\".format(cat2.age))\r\n",
        "\r\n",
        "print(\"The oldest cat is {}\".format(oldest(cat1._age,cat2._age,cat3._age)),\"years old\")"
      ],
      "execution_count": null,
      "outputs": [
        {
          "output_type": "stream",
          "text": [
            "The name of cat1 is Tommy\n",
            "The name of cat2 is Mysti\n",
            "\n",
            "\n",
            "the age of cat1 is 10\n",
            "The age of cat2 is 12\n",
            "The oldest cat is 14 years old\n"
          ],
          "name": "stdout"
        }
      ]
    },
    {
      "cell_type": "code",
      "metadata": {
        "id": "bAI2GEPUOPJ4",
        "colab": {
          "base_uri": "https://localhost:8080/"
        },
        "outputId": "7707029d-7e56-424c-d1f4-35205086e47e"
      },
      "source": [
        "#Inheritance\r\n",
        "class User: #ParentClass\r\n",
        "  def sign_in(self):\r\n",
        "    print(\"Logged In\")\r\n",
        "  \r\n",
        "class Wizard(User): #Subclasses\r\n",
        "  def __init__(self,name,power):\r\n",
        "    self.name = name\r\n",
        "    self.power = power\r\n",
        "  \r\n",
        "  def attack(self):#Subclasses\r\n",
        "    print(\"The attack power: {}\".format(self.power))\r\n",
        "\r\n",
        "class Archers(User):\r\n",
        "  def __init__(self,name,archer):\r\n",
        "    self.name = name \r\n",
        "    self.archer = archer\r\n",
        "  \r\n",
        "  def attack(self):\r\n",
        "    print(\"the arrows are : {}\".format(self.archer))\r\n",
        "\r\n",
        "\r\n",
        "wizard1 = Wizard('Prdep',50)\r\n",
        "archer1 = Archers('googly','40')\r\n",
        "\r\n",
        "print(wizard1.attack())\r\n",
        "print(archer1.attack())\r\n",
        "#Object Interespection \r\n",
        "print(dir(wizard1))\r\n",
        "\r\n",
        "print(isinstance(wizard1,User))\r\n"
      ],
      "execution_count": null,
      "outputs": [
        {
          "output_type": "stream",
          "text": [
            "The attack power: 50\n",
            "None\n",
            "the arrows are : 40\n",
            "None\n",
            "['__class__', '__delattr__', '__dict__', '__dir__', '__doc__', '__eq__', '__format__', '__ge__', '__getattribute__', '__gt__', '__hash__', '__init__', '__init_subclass__', '__le__', '__lt__', '__module__', '__ne__', '__new__', '__reduce__', '__reduce_ex__', '__repr__', '__setattr__', '__sizeof__', '__str__', '__subclasshook__', '__weakref__', 'attack', 'name', 'power', 'sign_in']\n",
            "True\n"
          ],
          "name": "stdout"
        }
      ]
    },
    {
      "cell_type": "code",
      "metadata": {
        "id": "XxCvaFXdqwLo"
      },
      "source": [
        ""
      ],
      "execution_count": null,
      "outputs": []
    },
    {
      "cell_type": "code",
      "metadata": {
        "colab": {
          "base_uri": "https://localhost:8080/"
        },
        "id": "XNoc_879qrF2",
        "outputId": "170e63f3-dfb4-4c06-84f7-4038c0f1c9d6"
      },
      "source": [
        "#Dunder Method = Special methods  \r\n",
        "\r\n",
        "class Toy():\r\n",
        "  def __init__(self,color,age):\r\n",
        "    self.color = color\r\n",
        "    self.age = age\r\n",
        "  \r\n",
        "  def __str__(self):\r\n",
        "    return f'{self.color}'\r\n",
        "  \r\n",
        "  #To get the lenght of function\r\n",
        "  def __len__(self):\r\n",
        "    return 5\r\n",
        "\r\n",
        "  #To call the function \r\n",
        "  def __call__(self):\r\n",
        "    return ('yes')\r\n",
        "  \r\n",
        "\r\n",
        "action_figure = Toy('red',0)\r\n",
        "print(action_figure.__str__())\r\n",
        "print(str(action_figure))\r\n",
        "print(len(action_figure))\r\n",
        "print(action_figure())\r\n"
      ],
      "execution_count": null,
      "outputs": [
        {
          "output_type": "stream",
          "text": [
            "red\n",
            "red\n",
            "5\n",
            "yes\n"
          ],
          "name": "stdout"
        }
      ]
    },
    {
      "cell_type": "code",
      "metadata": {
        "id": "VWBiBURBrPO8",
        "colab": {
          "base_uri": "https://localhost:8080/"
        },
        "outputId": "7d6a5ff8-0523-4743-f3f3-1ac980c34445"
      },
      "source": [
        "#To perform the list methods\r\n",
        "class SuperList(list):\r\n",
        "  def __len__(self):\r\n",
        "    return 1000\r\n",
        "\r\n",
        "  \r\n",
        "super_list1 = SuperList()\r\n",
        "print(len(super_list1))\r\n",
        "super_list1.append(12)\r\n",
        "print(super_list1)\r\n",
        "\r\n",
        "print(issubclass(SuperList,list))\r\n",
        "\r\n",
        "\r\n",
        "\r\n",
        "\r\n"
      ],
      "execution_count": 12,
      "outputs": [
        {
          "output_type": "stream",
          "text": [
            "1000\n",
            "[12]\n",
            "True\n"
          ],
          "name": "stdout"
        }
      ]
    },
    {
      "cell_type": "code",
      "metadata": {
        "colab": {
          "base_uri": "https://localhost:8080/"
        },
        "id": "OMvpZc6i8pe4",
        "outputId": "fc120e6c-500a-4984-a73b-a0d3888a9d42"
      },
      "source": [
        "#Method resolution Order -MRO -algorithm  Deapth first search is used\r\n",
        "class A:\r\n",
        "  num  = 10\r\n",
        "\r\n",
        "class B(A):\r\n",
        "  pass\r\n",
        "\r\n",
        "class C(A):\r\n",
        "  num = 1\r\n",
        "\r\n",
        "class D(B, C):\r\n",
        "  pass\r\n",
        "\r\n",
        "print(D.num)\r\n",
        "#To  chech the order of \r\n",
        "print(D.mro())\r\n",
        "\r\n"
      ],
      "execution_count": 15,
      "outputs": [
        {
          "output_type": "stream",
          "text": [
            "1\n",
            "[<class '__main__.D'>, <class '__main__.B'>, <class '__main__.C'>, <class '__main__.A'>, <class 'object'>]\n"
          ],
          "name": "stdout"
        }
      ]
    },
    {
      "cell_type": "code",
      "metadata": {
        "id": "JyD5ClUdAOvU"
      },
      "source": [
        ""
      ],
      "execution_count": null,
      "outputs": []
    }
  ]
}