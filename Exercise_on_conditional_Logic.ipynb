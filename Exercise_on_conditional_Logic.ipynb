{
  "nbformat": 4,
  "nbformat_minor": 0,
  "metadata": {
    "colab": {
      "name": "Exercise_on_conditional_Logic.ipynb",
      "provenance": [],
      "authorship_tag": "ABX9TyOkd7ibnaH7OF1k2OXeIVgB",
      "include_colab_link": true
    },
    "kernelspec": {
      "name": "python3",
      "display_name": "Python 3"
    }
  },
  "cells": [
    {
      "cell_type": "markdown",
      "metadata": {
        "id": "view-in-github",
        "colab_type": "text"
      },
      "source": [
        "<a href=\"https://colab.research.google.com/github/pradeep004/Udemy-Python-Programming/blob/main/Exercise_on_conditional_Logic.ipynb\" target=\"_parent\"><img src=\"https://colab.research.google.com/assets/colab-badge.svg\" alt=\"Open In Colab\"/></a>"
      ]
    },
    {
      "cell_type": "markdown",
      "metadata": {
        "id": "KpskRt0x7Bs4"
      },
      "source": [
        "######Exericse  using GUI\r\n"
      ]
    },
    {
      "cell_type": "code",
      "metadata": {
        "colab": {
          "base_uri": "https://localhost:8080/"
        },
        "id": "RsDN64y36t_9",
        "outputId": "35e0ead6-36ec-4649-ad7d-0cb15c7142dc"
      },
      "source": [
        "#Exercise\r\n",
        "#---clean Code---\r\n",
        "##Readability\r\n",
        "##Predictibility\r\n",
        "##DRY\r\n",
        "picture = [\r\n",
        "           [0,0,0,1,0,0,0],\r\n",
        "           [0,0,1,1,1,0,0],\r\n",
        "           [0,1,1,1,1,1,0],\r\n",
        "           [1,1,1,1,1,1,1],\r\n",
        "           [0,0,0,1,0,0,0],\r\n",
        "           [0,0,0,1,0,0,0]\r\n",
        "]\r\n",
        "\r\n",
        "#interate over picture\r\n",
        "for row in picture:\r\n",
        "  for pixel in row:\r\n",
        "    if pixel == 1:\r\n",
        "      print('*',end ='')\r\n",
        "    else:\r\n",
        "      print(' ',end ='')\r\n",
        "  print('')  #need a new line after every row"
      ],
      "execution_count": 5,
      "outputs": [
        {
          "output_type": "stream",
          "text": [
            "   *   \n",
            "  ***  \n",
            " ***** \n",
            "*******\n",
            "   *   \n",
            "   *   \n"
          ],
          "name": "stdout"
        }
      ]
    },
    {
      "cell_type": "code",
      "metadata": {
        "colab": {
          "base_uri": "https://localhost:8080/"
        },
        "id": "7PbTZTk1_Y8E",
        "outputId": "22268aa0-d76b-43b7-ee6f-50082d2c4205"
      },
      "source": [
        "#FInding the duplicate values in list\r\n",
        "\r\n",
        "some_list = ['a', 'b', 'c', 'b', 'd', 'm', 'n', 'n']\r\n",
        "duplicate = []\r\n",
        "for alpha in some_list:\r\n",
        "  if some_list.count(alpha) > 1:\r\n",
        "    if alpha not in duplicate:\r\n",
        "      duplicate.append(alpha)\r\n",
        "print(duplicate)"
      ],
      "execution_count": 18,
      "outputs": [
        {
          "output_type": "stream",
          "text": [
            "['b', 'n']\n"
          ],
          "name": "stdout"
        }
      ]
    },
    {
      "cell_type": "code",
      "metadata": {
        "id": "0u1XiLje_5on"
      },
      "source": [
        ""
      ],
      "execution_count": null,
      "outputs": []
    }
  ]
}