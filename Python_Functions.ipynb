{
  "nbformat": 4,
  "nbformat_minor": 0,
  "metadata": {
    "colab": {
      "name": "Python_Functions.ipynb",
      "provenance": [],
      "authorship_tag": "ABX9TyP3npD0ynhslGjeFwEwYvzK",
      "include_colab_link": true
    },
    "kernelspec": {
      "name": "python3",
      "display_name": "Python 3"
    }
  },
  "cells": [
    {
      "cell_type": "markdown",
      "metadata": {
        "id": "view-in-github",
        "colab_type": "text"
      },
      "source": [
        "<a href=\"https://colab.research.google.com/github/pradeep004/Udemy-Python-Programming/blob/main/Python_Functions.ipynb\" target=\"_parent\"><img src=\"https://colab.research.google.com/assets/colab-badge.svg\" alt=\"Open In Colab\"/></a>"
      ]
    },
    {
      "cell_type": "markdown",
      "metadata": {
        "id": "e4s5HVaKD3Aj"
      },
      "source": [
        "##Functions - def is used for difining function \r\n",
        "#####1).Create \r\n",
        "#####2).Define\r\n",
        "#####3).Calling - able to do same thing over and over again \r\n"
      ]
    },
    {
      "cell_type": "code",
      "metadata": {
        "colab": {
          "base_uri": "https://localhost:8080/"
        },
        "id": "RchpnheRCvEM",
        "outputId": "91d1e6d2-1326-41a4-ef6a-582765fc25fc"
      },
      "source": [
        "#simple exampe \r\n",
        "def say():\r\n",
        "  print('Hello...!')\r\n",
        "say()"
      ],
      "execution_count": 1,
      "outputs": [
        {
          "output_type": "stream",
          "text": [
            "Hello...!\n"
          ],
          "name": "stdout"
        }
      ]
    },
    {
      "cell_type": "code",
      "metadata": {
        "colab": {
          "base_uri": "https://localhost:8080/"
        },
        "id": "U9LpJovMFGk1",
        "outputId": "b8b2b813-479f-47dc-cd71-7d2e14a02f92"
      },
      "source": [
        "#Arguments and Parameters\r\n",
        "\r\n",
        "#Passing the parameter \r\n",
        "#Positional Parameter\r\n",
        "   \r\n",
        "def call_me(name):\r\n",
        "  print('Hello {}'.format(name))\r\n",
        "\r\n",
        "#Arguments \r\n",
        "call_me('Pradeep')  #Call or invoking the functions\\\r\n",
        "call_me('John')\r\n",
        "\r\n",
        "#Keyword argument\r\n",
        "call_me(name = 'alice')\r\n",
        "\r\n"
      ],
      "execution_count": 4,
      "outputs": [
        {
          "output_type": "stream",
          "text": [
            "Hello Pradeep\n",
            "Hello John\n",
            "Hello alice\n"
          ],
          "name": "stdout"
        }
      ]
    },
    {
      "cell_type": "code",
      "metadata": {
        "colab": {
          "base_uri": "https://localhost:8080/"
        },
        "id": "NODceo60HBV9",
        "outputId": "ab54e0e7-2c96-48c8-c548-aae84c0969e1"
      },
      "source": [
        "#Default parameter\r\n",
        "def call_me(name = 'Walter'):\r\n",
        "  print(\"Hello {}\".format(name))\r\n",
        "call_me()"
      ],
      "execution_count": 5,
      "outputs": [
        {
          "output_type": "stream",
          "text": [
            "Hello Walter\n"
          ],
          "name": "stdout"
        }
      ]
    },
    {
      "cell_type": "code",
      "metadata": {
        "colab": {
          "base_uri": "https://localhost:8080/"
        },
        "id": "shQW2w_xIYKp",
        "outputId": "8eb377e1-24fa-4195-cadd-a5b74ecdc7fa"
      },
      "source": [
        "def sum(num1,num2):\r\n",
        "  return num1+num2\r\n",
        "\r\n",
        "total = sum(10,29)\r\n",
        "print(total)"
      ],
      "execution_count": 7,
      "outputs": [
        {
          "output_type": "stream",
          "text": [
            "39\n"
          ],
          "name": "stdout"
        }
      ]
    },
    {
      "cell_type": "code",
      "metadata": {
        "id": "wZLGCd0iKHiO"
      },
      "source": [
        "#Methods v/s Functions\r\n",
        "\r\n",
        "#1).Function are\r\n",
        "list()\r\n",
        "print()\r\n",
        "max()\r\n",
        "input()\r\n",
        "\r\n",
        "def some():\r\n",
        "  pass\r\n",
        "\r\n",
        "\r\n",
        "#2).Methods - Are used by using .notation \r\n",
        "'hello'.uppercase()\r\n",
        "\r\n",
        "\r\n"
      ],
      "execution_count": null,
      "outputs": []
    },
    {
      "cell_type": "markdown",
      "metadata": {
        "id": "AgCZhTh8Lc4D"
      },
      "source": [
        "#####Docstring used with Functions\r\n"
      ]
    },
    {
      "cell_type": "code",
      "metadata": {
        "colab": {
          "base_uri": "https://localhost:8080/"
        },
        "id": "NaDSsb-XLh7Q",
        "outputId": "c4894374-937a-4e21-ba49-adaab6650234"
      },
      "source": [
        "def test(a):\r\n",
        "  '''\r\n",
        "  info \r\n",
        "  '''\r\n",
        "  print(a)\r\n",
        "test('adas')\r\n",
        "print(test.__doc__) #docstring describes the functions \r\n"
      ],
      "execution_count": 9,
      "outputs": [
        {
          "output_type": "stream",
          "text": [
            "adas\n",
            "\n",
            "  info \n",
            "  \n"
          ],
          "name": "stdout"
        }
      ]
    }
  ]
}